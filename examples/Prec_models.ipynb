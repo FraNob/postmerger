{
 "cells": [
  {
   "cell_type": "markdown",
   "metadata": {},
   "source": [
    "# Example usage of the `Prec6dq10_20M`, `Prec7dq10_20M` fitting models\n",
    "\n",
    "`Prec6dq10_20M` models ampitudes of the ringdown from a quasi-circular, precessing black-hole binary. It is calibrated up to mass ratio 10 and at a starting time $t_{\\rm start}=20M$ from $t_{\\rm EMOP}$.\n",
    "\n",
    "Description."
   ]
  },
  {
   "cell_type": "code",
   "execution_count": 1,
   "metadata": {},
   "outputs": [],
   "source": [
    "import sys\n",
    "sys.path.append('..')\n",
    "import numpy as np\n",
    "import matplotlib.pyplot as plt\n",
    "import postmerger as pm"
   ]
  },
  {
   "cell_type": "markdown",
   "metadata": {},
   "source": [
    "## Load fit"
   ]
  },
  {
   "cell_type": "code",
   "execution_count": 2,
   "metadata": {},
   "outputs": [
    {
     "data": {
      "text/plain": [
       "Prec6dq10_20M models amplitudes of the ringdown from a quasi-circular, precessing black-hole binary.\n",
       "It is calibrated up to mass ratio 10 and at a starting time 20M from t_emop of the simulation.\n",
       "It also provides an uncertainty estimate calibrated on the cross-validation absolute error on the amplitude values."
      ]
     },
     "execution_count": 2,
     "metadata": {},
     "output_type": "execute_result"
    }
   ],
   "source": [
    "fitname = 'Prec6dq10_20M'\n",
    "fit = pm.load_fit(fitname)\n",
    "fit"
   ]
  },
  {
   "cell_type": "markdown",
   "metadata": {},
   "source": [
    "## Read documentation"
   ]
  },
  {
   "cell_type": "code",
   "execution_count": null,
   "metadata": {},
   "outputs": [
    {
     "name": "stdout",
     "output_type": "stream",
     "text": [
      "Help on AmplitudeFitPrec6dq10 in module postmerger._fits object:\n",
      "\n",
      "class AmplitudeFitPrec6dq10(builtins.object)\n",
      " |  AmplitudeFitPrec6dq10(fit_dict)\n",
      " |\n",
      " |  Methods defined here:\n",
      " |\n",
      " |  __init__(self, fit_dict)\n",
      " |      Initialize self.  See help(type(self)) for accurate signature.\n",
      " |\n",
      " |  __print__(self)\n",
      " |\n",
      " |  __repr__(self)\n",
      " |      Return repr(self).\n",
      " |\n",
      " |  predict_abs_err(self, delta, chi_s, chi_a, rem_spin_angle, kick_angle, kick_vel, lm, mode, return_std=False, start_time=None, final_mass_val=None, final_spin_val=None)\n",
      " |      Predict the values of the cross-validation absolute error on A_lm corresponding to the query points.\n",
      " |      Mode (2,0) is not circularly polarized. lm=(2,0) corresponds to the real part, while lm=(2,10) corresponds to the imaginary part.\n",
      " |\n",
      " |      Parameters\n",
      " |      ----------\n",
      " |      mass_ratio : array_like of shape (n_samples,) or float\n",
      " |          Mass ratio of the query points.\n",
      " |\n",
      " |      chi1z : array_like of shape (n_samples,) or float\n",
      " |          Projection along the z axis of the primary spin.\n",
      " |\n",
      " |      chi2z : array_like of shape (n_samples,) or float\n",
      " |          Projection along the z axis of the secondary spin.\n",
      " |\n",
      " |      lm : tuple_like object\n",
      " |          Ordered couple (l,m) specifying the angular number l and azimuthal number m of the harmonic.\n",
      " |\n",
      " |      mode : tuple_like object\n",
      " |          Ordered tuple specifying the queried quasi-normal mode.\n",
      " |          For linear modes, ordered triple (l,m,n).\n",
      " |          For quadratic modes, ordered couple of the form ((l1,m1,n1),(l2,m2,n2)).\n",
      " |\n",
      " |      return_std : bool. Default=False.\n",
      " |          Whether or not to return the standard deviation of the predictive distribution at the query points.\n",
      " |\n",
      " |      start_time : float or None. Default=None.\n",
      " |          Start time of the ringdown waveform, relative to t_emop of the simulation.\n",
      " |          If None (default), assume that start_time=self.t0.\n",
      " |\n",
      " |      final_mass_val : float or None. Default=None.\n",
      " |          Final mass of the remnant black hole. Only used if start_time is not None for retrodiction.\n",
      " |\n",
      " |      final_spin_val : float or None. Default=None.\n",
      " |          Final spin of the remnant black hole. Only used if start_time is not None for retrodiction.\n",
      " |\n",
      " |  predict_amp(self, delta, chi_s, chi_a, rem_spin_angle, kick_angle, kick_vel, lm, mode, return_std=False, start_time=None, final_mass_val=None, final_spin_val=None)\n",
      " |      Predict the values of A_lm corresponding to the query points.\n",
      " |      Mode (2,0) is not circularly polarized. lm=(2,0) corresponds to the real part, while lm=(2,10) corresponds to the imaginary part.\n",
      " |\n",
      " |      Parameters\n",
      " |      ----------\n",
      " |      delta : array_like of shape (n_samples,) or float\n",
      " |          Asymmetric mass ratio of the query points. delta = (q-1)/(q+1) where q is the mass ratio. q = m1/m2 >= 1.\n",
      " |\n",
      " |      chi_s : array_like of shape (n_samples,) or float\n",
      " |          Symmetric combination of spin components parallel to orbital angular momentum at ISCO.\n",
      " |          chi_s = (q*chi1z + chi2z)/(q+1) where q = m1/m2 >= 1.\n",
      " |\n",
      " |      chi_a : array_like of shape (n_samples,) or float\n",
      " |          Antisymmetric combination of spin components parallel to orbital angular momentum at ISCO.\n",
      " |          chi_a = (q*chi1z - chi2z)/(q+1) where q = m1/m2 >= 1.\n",
      " |\n",
      " |      rem_spin_angle : array_like of shape (n_samples,) or float\n",
      " |          Angle between the remnant spin and the orbital angular momentum at ISCO.\n",
      " |\n",
      " |      kick_angle : array_like of shape (n_samples,) or float\n",
      " |          Angle between the remnant spin and the recoil kick velocity.\n",
      " |\n",
      " |      kick_vel : array_like of shape (n_samples,) or float\n",
      " |          Magnitude of the recoil kick velocity.\n",
      " |\n",
      " |      lm : tuple_like object\n",
      " |          Ordered couple (l,m) specifying the angular number l and azimuthal number m of the harmonic.\n",
      " |\n",
      " |      mode : tuple_like object\n",
      " |          Ordered tuple specifying the queried quasi-normal mode.\n",
      " |          For linear modes, ordered triple (l,m,n).\n",
      " |          For quadratic modes, ordered couple of the form ((l1,m1,n1),(l2,m2,n2)).\n",
      " |\n",
      " |      return_std : bool. Default=False.\n",
      " |          Whether or not to return the standard deviation of the predictive distribution at the query points.\n",
      " |          **WARNING**: As explained in the paper, this is not a good measure of uncertainty for the surrogate model. Use the predict_abs_err instead.\n",
      " |\n",
      " |      start_time : float or None. Default=None.\n",
      " |          Start time of the ringdown waveform, relative to t_emop of the simulation.\n",
      " |          If None (default), assume that start_time=self.t0.\n",
      " |\n",
      " |      final_mass_val : float or None. Default=None.\n",
      " |          Final mass of the remnant black hole. Only used if start_time is not None for retrodiction.\n",
      " |\n",
      " |      final_spin_val : float or None. Default=None.\n",
      " |          Final spin of the remnant black hole. Only used if start_time is not None for retrodiction.\n",
      " |\n",
      " |  predict_t_emop(self, delta, chi_s, chi_a, rem_spin_angle, kick_angle, kick_vel, lm, mode, return_std=False)\n",
      " |      Predict the value of t_emop with respect to the peak of the L2 norm of the waveform, corresponding to the query points.\n",
      " |      Mode (2,0) is not circularly polarized. lm=(2,0) corresponds to the real part, while lm=(2,10) corresponds to the imaginary part.\n",
      " |\n",
      " |      Parameters\n",
      " |      ----------\n",
      " |      mass_ratio : array_like of shape (n_samples,) or float\n",
      " |          Mass ratio of the query points.\n",
      " |\n",
      " |      chi1z : array_like of shape (n_samples,) or float\n",
      " |          Projection along the z axis of the primary spin.\n",
      " |\n",
      " |      chi2z : array_like of shape (n_samples,) or float\n",
      " |          Projection along the z axis of the secondary spin.\n",
      " |\n",
      " |      lm : tuple_like object\n",
      " |          Ordered couple (l,m) specifying the angular number l and azimuthal number m of the harmonic.\n",
      " |\n",
      " |      mode : tuple_like object\n",
      " |          Ordered tuple specifying the queried quasi-normal mode.\n",
      " |          For linear modes, ordered triple (l,m,n).\n",
      " |          For quadratic modes, ordered couple of the form ((l1,m1,n1),(l2,m2,n2)).\n",
      " |\n",
      " |      return_std : bool. Default=False.\n",
      " |          Whether or not to return the standard deviation of the predictive distribution at the query points.\n",
      " |\n",
      " |  ----------------------------------------------------------------------\n",
      " |  Data descriptors defined here:\n",
      " |\n",
      " |  __dict__\n",
      " |      dictionary for instance variables\n",
      " |\n",
      " |  __weakref__\n",
      " |      list of weak references to the object\n",
      "\n"
     ]
    }
   ],
   "source": [
    "help(fit)"
   ]
  },
  {
   "cell_type": "markdown",
   "metadata": {},
   "source": [
    "## Predict amplitudes"
   ]
  },
  {
   "cell_type": "markdown",
   "metadata": {},
   "source": [
    "Since $(2,0)$ mode is not circularly poalrized, we model the real and imaginary parts as different modes. To maintain a consistent notation, we identify $Re(2,0)$ with $(l=2,m=0)$ and $Im(2,0)$ with $(l=2,m=10)$."
   ]
  },
  {
   "cell_type": "code",
   "execution_count": 4,
   "metadata": {},
   "outputs": [
    {
     "data": {
      "text/plain": [
       "{(2, 2): [(2, 2, 0)],\n",
       " (2, 0): [(2, 0, 0)],\n",
       " (2, 10): [(2, 10, 0)],\n",
       " (2, 1): [(2, 1, 0)],\n",
       " (3, 3): [(3, 3, 0)]}"
      ]
     },
     "execution_count": 4,
     "metadata": {},
     "output_type": "execute_result"
    }
   ],
   "source": [
    "## inspect available modes\n",
    "## syntax: {(l,m): lm_modes}\n",
    "fit.modes"
   ]
  },
  {
   "cell_type": "code",
   "execution_count": 5,
   "metadata": {},
   "outputs": [
    {
     "name": "stdout",
     "output_type": "stream",
     "text": [
      "Amplitude (+/-) abs_err/2\n",
      "Mode (2, 2, 0):\t  0.118(+/-)0.003\n"
     ]
    }
   ],
   "source": [
    "## binary parameters\n",
    "mass_ratio = 1.5 # defined to be >=1\n",
    "chi1z = 0.1\n",
    "chi2z = 0.3\n",
    "theta_f = 0.2 # Angle between remnant spin and orbital angular momentum at ISCO\n",
    "phi_k = 0. # Angle between remnant spin and the recoil kick velocity\n",
    "v_k = 0.1 # Magnitude of the recoil kick velocity\n",
    "\n",
    "## Utility functions\n",
    "delta = pm.delta_from_q(mass_ratio)\n",
    "chi_s = pm.chi_s_from_spins(mass_ratio,chi1z,chi2z)\n",
    "chi_a = pm.chi_a_from_spins(mass_ratio,chi1z,chi2z)\n",
    "\n",
    "## spherical-harmonic indices\n",
    "lm = (2,2)\n",
    "\n",
    "## mode indices\n",
    "mode = (2,2,0)\n",
    "\n",
    "## predict\n",
    "amp = fit.predict_amp(delta, chi_s, chi_a, theta_f, phi_k, v_k ,lm,mode,return_std=False)\n",
    "abs_err = fit.predict_abs_err(delta, chi_s, chi_a, theta_f, phi_k, v_k ,lm,mode,return_std=False)\n",
    "\n",
    "## results\n",
    "print('Amplitude (+/-) abs_err/2')\n",
    "print(f'Mode {mode}:\\t  {amp[0]:.3f}(+/-){abs_err[0]/2:.3f}')"
   ]
  },
  {
   "cell_type": "markdown",
   "metadata": {},
   "source": [
    "By default, predicitions are returned at a starting time $20M$ after $t_{\\rm EMOP}$. You can retrodict (or postdict) the predictions to a different starting time using the `start_time` argument, after providing the remnant spin and mass:"
   ]
  },
  {
   "cell_type": "code",
   "execution_count": 6,
   "metadata": {},
   "outputs": [
    {
     "name": "stdout",
     "output_type": "stream",
     "text": [
      "Amplitude (+/-) abs_err/2\n",
      "Mode (2, 2, 0):\t  0.243(+/-)0.006\n"
     ]
    }
   ],
   "source": [
    "## start time in units of the initial total mass M\n",
    "start_time = 10\n",
    "final_mass_val = 0.90\n",
    "final_spin_val = 0.90\n",
    "## predict\n",
    "amp = fit.predict_amp(delta, chi_s, chi_a, theta_f, phi_k, v_k ,lm,mode,\n",
    "                    final_mass_val=final_mass_val,\n",
    "                    final_spin_val=final_spin_val,\n",
    "                    start_time=start_time, return_std=False)\n",
    "abs_err = fit.predict_abs_err(delta, chi_s, chi_a, theta_f, phi_k, v_k ,lm,mode, \n",
    "                    final_mass_val=final_mass_val,\n",
    "                    final_spin_val=final_spin_val,\n",
    "                    start_time=start_time, return_std=False)\n",
    "\n",
    "## results\n",
    "print('Amplitude (+/-) abs_err/2')\n",
    "print(f'Mode {mode}:\\t  {amp[0]:.3f}(+/-){abs_err[0]/2:.3f}')"
   ]
  },
  {
   "cell_type": "markdown",
   "metadata": {},
   "source": [
    "## Batch evaluation"
   ]
  },
  {
   "cell_type": "code",
   "execution_count": 7,
   "metadata": {},
   "outputs": [],
   "source": [
    "## binary parameters\n",
    "## Utility functions\n",
    "delta = np.linspace(0,0.6,50)\n",
    "chi_s = 0.\n",
    "chi_a = 0.\n",
    "theta_f = 0.5# Angle between remnant spin and orbital angular momentum at ISCO\n",
    "phi_k = np.flip(np.linspace(0,np.pi,50)) # Angle between remnant spin and the recoil kick velocity\n",
    "v_k = 0.0025 # Magnitude of the recoil kick velocity"
   ]
  },
  {
   "cell_type": "code",
   "execution_count": 8,
   "metadata": {},
   "outputs": [],
   "source": [
    "\n",
    "## spherical-harmonic indices\n",
    "lm = (2,2)\n",
    "\n",
    "## mode indices\n",
    "mode = (2,2,0)\n",
    "\n",
    "## predict\n",
    "amp = fit.predict_amp(delta, chi_s, chi_a, theta_f, phi_k, v_k ,lm,mode,return_std=False)\n",
    "abs_err = fit.predict_abs_err(delta, chi_s, chi_a, theta_f, phi_k, v_k ,lm,mode,return_std=False)\n"
   ]
  },
  {
   "cell_type": "code",
   "execution_count": 9,
   "metadata": {},
   "outputs": [
    {
     "data": {
      "image/png": "[encoded data removed]",
      "text/plain": [
       "<Figure size 600x400 with 1 Axes>"
      ]
     },
     "metadata": {},
     "output_type": "display_data"
    }
   ],
   "source": [
    "\n",
    "fig, axs = plt.subplots(1,1,figsize=(6,4))\n",
    "\n",
    "varying = phi_k\n",
    "\n",
    "axs.plot(varying,amp,color='k',linestyle='--',label=r'$\\mu_{\\rm GPR}$')\n",
    "axs.fill_between(varying,amp-abs_err,amp+abs_err,alpha=0.5,\\\n",
    "                 color='cornflowerblue',label=r'$2\\sigma_{\\rm GPR}$')\n",
    "axs.set_xlabel('mass ratio',fontsize=12)\n",
    "axs.set_ylabel(r'$A_{330}/A_{220}$',fontsize=13)\n",
    "axs.minorticks_on()\n",
    "axs.legend(fontsize=12,frameon=False)\n",
    "plt.show()"
   ]
  },
  {
   "cell_type": "code",
   "execution_count": null,
   "metadata": {},
   "outputs": [],
   "source": []
  }
 ],
 "metadata": {
  "kernelspec": {
   "display_name": "pm_env",
   "language": "python",
   "name": "python3"
  },
  "language_info": {
   "codemirror_mode": {
    "name": "ipython",
    "version": 3
   },
   "file_extension": ".py",
   "mimetype": "text/x-python",
   "name": "python",
   "nbconvert_exporter": "python",
   "pygments_lexer": "ipython3",
   "version": "3.12.9"
  }
 },
 "nbformat": 4,
 "nbformat_minor": 2
}
