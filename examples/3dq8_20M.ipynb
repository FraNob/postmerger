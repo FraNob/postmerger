{
 "cells": [
  {
   "cell_type": "markdown",
   "id": "53cc2cde",
   "metadata": {},
   "source": [
    "# Example usage of the `3dq8_20M` fitting model\n",
    "\n",
    "`3dq8_20M` models ampitudes and phases of the ringdown from a quasi-circular, non-precessing black-hole binary. It is calibrated up to mass ratio 8 and at a starting time $t_{\\rm start}=20M$ from the peak of the $(2,2)$ strain.\n",
    "\n",
    "The model natively fits for the effective cartesian coordinates $\\tilde A^{x,y}$ defined by\n",
    "$$\n",
    "\\tilde A_{\\rm mode}^x+i\\tilde A^y_{\\rm mode}=\\tilde A_{\\rm mode}e^{i\\beta\\tilde\\phi_{\\rm mode}}\n",
    "$$\n",
    "\n",
    "where $\\beta=1$ if we are computing predictions for a mode corresponding to spherical-harmonic indices $(l,m)$ with even $m$, while $\\beta=2$ for odd $m$.\n",
    "\n",
    "The amplitudes $\\tilde A$ are the relative amplitudes $\\tilde A_{\\rm mode}=A_{\\rm mode}/A_{220}$, with the only exception that $\\tilde A_{220}\\equiv A_{220}$.\n",
    "\n",
    "The relative phases are defined as $\\tilde\\phi_{\\rm mode}=\\phi_{\\rm mode}-\\frac{m}{2}\\phi_{220}$.\n",
    "\n",
    "They are extracted from $\\tilde A_{\\rm mode}^{x,y}$ as\n",
    "$$\n",
    "\\tilde A_{\\rm mode}={\\rm abs}(\\tilde A_{\\rm mode}^x+i\\tilde A_{\\rm mode}^y)\n",
    "$$\n",
    "$$\n",
    "\\tilde\\phi_{\\rm mode}=\\frac{{\\rm angle}(\\tilde A_{\\rm mode}^x+i\\tilde A_{\\rm mode}^y)}{\\beta}~{\\rm rad}\n",
    "$$\n",
    "meaning that $\\tilde\\phi_{\\rm mode}$ has support in the interval $[-\\pi,\\pi]$.\n",
    "\n",
    "1-$\\sigma$ uncertainties are propagated as\n",
    "$$\n",
    "\\sigma_{\\tilde A}=\\frac{\\sqrt{\\left(\\sigma^x\\tilde A^x\\right)^2+\\left(\\sigma^y\\tilde A^y\\right)^2}}{\\tilde A}\n",
    "$$\n",
    "$$\n",
    "\\sigma_{\\tilde \\phi}=\\frac{\\sqrt{\\left(\\sigma^y\\tilde A^x\\right)^2+\\left(\\sigma^x\\tilde A^y\\right)^2}}{\\beta\\tilde A^2}~{\\rm rad}\n",
    "$$\n",
    "\n",
    "__Note:__ the model does not return predictions for mixing modes, i.e. modes $(l',m,n)$ contributing to a spherical harmonic $(l,m)$ with $l'\\neq l$. Rather, it is assumed that they are be derived from the non-mixing modes $(l',m,n)$ and from the corresponding spherical-spheroidal mixing coefficients $\\mu_{mll'n}$."
   ]
  },
  {
   "cell_type": "code",
   "execution_count": 1,
   "id": "73e3c2fd",
   "metadata": {},
   "outputs": [],
   "source": [
    "import sys\n",
    "sys.path.append('..')"
   ]
  },
  {
   "cell_type": "code",
   "execution_count": 2,
   "id": "46f904d6",
   "metadata": {},
   "outputs": [],
   "source": [
    "import numpy as np\n",
    "import matplotlib.pyplot as plt"
   ]
  },
  {
   "cell_type": "code",
   "execution_count": 3,
   "id": "38e14dd7",
   "metadata": {},
   "outputs": [],
   "source": [
    "import postmerger as pm"
   ]
  },
  {
   "cell_type": "markdown",
   "id": "be3f220e",
   "metadata": {},
   "source": [
    "## Load fit"
   ]
  },
  {
   "cell_type": "code",
   "execution_count": 4,
   "id": "a185475c",
   "metadata": {},
   "outputs": [
    {
     "name": "stderr",
     "output_type": "stream",
     "text": [
      "/home/fra/miniconda3/envs/pm_env/lib/python3.12/site-packages/sklearn/base.py:380: InconsistentVersionWarning: Trying to unpickle estimator StandardScaler from version 1.3.2 when using version 1.6.1. This might lead to breaking code or invalid results. Use at your own risk. For more info please refer to:\n",
      "https://scikit-learn.org/stable/model_persistence.html#security-maintainability-limitations\n",
      "  warnings.warn(\n",
      "/home/fra/miniconda3/envs/pm_env/lib/python3.12/site-packages/sklearn/base.py:380: InconsistentVersionWarning: Trying to unpickle estimator LinearRegression from version 1.3.2 when using version 1.6.1. This might lead to breaking code or invalid results. Use at your own risk. For more info please refer to:\n",
      "https://scikit-learn.org/stable/model_persistence.html#security-maintainability-limitations\n",
      "  warnings.warn(\n",
      "/home/fra/miniconda3/envs/pm_env/lib/python3.12/site-packages/sklearn/base.py:380: InconsistentVersionWarning: Trying to unpickle estimator Pipeline from version 1.3.2 when using version 1.6.1. This might lead to breaking code or invalid results. Use at your own risk. For more info please refer to:\n",
      "https://scikit-learn.org/stable/model_persistence.html#security-maintainability-limitations\n",
      "  warnings.warn(\n",
      "/home/fra/miniconda3/envs/pm_env/lib/python3.12/site-packages/sklearn/base.py:380: InconsistentVersionWarning: Trying to unpickle estimator GaussianProcessRegressor from version 1.3.2 when using version 1.6.1. This might lead to breaking code or invalid results. Use at your own risk. For more info please refer to:\n",
      "https://scikit-learn.org/stable/model_persistence.html#security-maintainability-limitations\n",
      "  warnings.warn(\n"
     ]
    },
    {
     "data": {
      "text/plain": [
       "3dq8_20M models ampitudes and phases of the ringdown from a quasi-circular, non-precessing black-hole binary.\n",
       "It is calibrated up to mass ratio 8 and at a starting time 20M from the peak of the (2,2) strain."
      ]
     },
     "execution_count": 4,
     "metadata": {},
     "output_type": "execute_result"
    }
   ],
   "source": [
    "fitname = '3dq8_20M'\n",
    "fit = pm.load_fit(fitname)\n",
    "fit"
   ]
  },
  {
   "cell_type": "markdown",
   "id": "936a88cb",
   "metadata": {},
   "source": [
    "## Read documentation"
   ]
  },
  {
   "cell_type": "code",
   "execution_count": 5,
   "id": "74861d09",
   "metadata": {},
   "outputs": [
    {
     "name": "stdout",
     "output_type": "stream",
     "text": [
      "Help on AmplitudeFit3dq8 in module postmerger._fits object:\n",
      "\n",
      "class AmplitudeFit3dq8(builtins.object)\n",
      " |  AmplitudeFit3dq8(fit_dict)\n",
      " |\n",
      " |  Methods defined here:\n",
      " |\n",
      " |  __init__(self, fit_dict)\n",
      " |      Initialize self.  See help(type(self)) for accurate signature.\n",
      " |\n",
      " |  __print__(self)\n",
      " |\n",
      " |  __repr__(self)\n",
      " |      Return repr(self).\n",
      " |\n",
      " |  predict_amp(self, mass_ratio, chi1z, chi2z, lm, mode, return_std=False, start_time=None)\n",
      " |      Predict the value of abs(A^x+iA^y) corresponding to the query points (mass_ratio,chi1z,chi2z).\n",
      " |\n",
      " |      Parameters\n",
      " |      ----------\n",
      " |      mass_ratio : array_like of shape (n_samples,) or float\n",
      " |          Mass ratio of the query points.\n",
      " |\n",
      " |      chi1z : array_like of shape (n_samples,) or float\n",
      " |          Projection along the z axis of the primary spin.\n",
      " |\n",
      " |      chi2z : array_like of shape (n_samples,) or float\n",
      " |          Projection along the z axis of the secondary spin.\n",
      " |\n",
      " |      lm : tuple_like object\n",
      " |          Ordered couple (l,m) specifying the angular number l and azimuthal number m of the harmonic.\n",
      " |\n",
      " |      mode : tuple_like object\n",
      " |          Ordered tuple specifying the queried quasi-normal mode.\n",
      " |          For linear modes, ordered triple (l,m,n).\n",
      " |          For quadratic modes, ordered couple of the form ((l1,m1,n1),(l2,m2,n2)).\n",
      " |\n",
      " |      return_std : bool. Default=False.\n",
      " |          Whether or not to return the standard deviation of the predictive distribution at the query points.\n",
      " |\n",
      " |      start_time : float or None. Default=None.\n",
      " |          Start time of the ringdown waveform, relative to the peak of |h_{22}|.\n",
      " |          If None (default), assume that start_time=self.t0.\n",
      " |\n",
      " |  predict_phase(self, mass_ratio, chi1z, chi2z, lm, mode, return_std=False, start_time=None)\n",
      " |      Predict the value of angle(A^x+iA^y)/beta corresponding to the query points (mass_ratio,chi1z,chi2z).\n",
      " |      beta is a correction factor introduced in CITE-THE-PAPER to help fitting of A^x and A^y.\n",
      " |\n",
      " |      Parameters\n",
      " |      ----------\n",
      " |      mass_ratio : array_like of shape (n_samples,) or float\n",
      " |          Mass ratio of the query points.\n",
      " |\n",
      " |      chi1z : array_like of shape (n_samples,) or float\n",
      " |          Projection along the z axis of the primary spin.\n",
      " |\n",
      " |      chi2z : array_like of shape (n_samples,) or float\n",
      " |          Projection along the z axis of the secondary spin.\n",
      " |\n",
      " |      lm : tuple_like object\n",
      " |          Ordered couple (l,m) specifying the angular number l and azimuthal number m of the harmonic.\n",
      " |\n",
      " |      mode : tuple_like object\n",
      " |          Ordered tuple specifying the queried quasi-normal mode.\n",
      " |          For linear modes, ordered triple (l,m,n).\n",
      " |          For quadratic modes, ordered couple of the form ((l1,m1,n1),(l2,m2,n2)).\n",
      " |\n",
      " |      return_std : bool. Default=False.\n",
      " |          Whether or not to return the standard deviation of the predictive distribution at the query points.\n",
      " |\n",
      " |      start_time : float or None. Default=None.\n",
      " |          Start time of the ringdown waveform, relative to the peak of |h_{22}|.\n",
      " |          If None (default), assume that start_time=self.t0.\n",
      " |\n",
      " |  predict_xy_amp(self, mass_ratio, chi1z, chi2z, lm, mode, return_std=False)\n",
      " |      Predict the values of A^x and A^y corresponding to the query points (mass_ratio,chi1z,chi2z).\n",
      " |\n",
      " |      Parameters\n",
      " |      ----------\n",
      " |      mass_ratio : array_like of shape (n_samples,) or float\n",
      " |          Mass ratio of the query points.\n",
      " |\n",
      " |      chi1z : array_like of shape (n_samples,) or float\n",
      " |          Projection along the z axis of the primary spin.\n",
      " |\n",
      " |      chi2z : array_like of shape (n_samples,) or float\n",
      " |          Projection along the z axis of the secondary spin.\n",
      " |\n",
      " |      lm : tuple_like object\n",
      " |          Ordered couple (l,m) specifying the angular number l and azimuthal number m of the harmonic.\n",
      " |\n",
      " |      mode : tuple_like object\n",
      " |          Ordered tuple specifying the queried quasi-normal mode.\n",
      " |          For linear modes, ordered triple (l,m,n).\n",
      " |          For quadratic modes, ordered couple of the form ((l1,m1,n1),(l2,m2,n2)).\n",
      " |\n",
      " |      return_std : bool. Default=False.\n",
      " |          Whether or not to return the standard deviation of the predictive distribution at the query points.\n",
      " |\n",
      " |  sample_amp(self, mass_ratio, chi1z, chi2z, lm, mode, n_samples=1, start_time=None)\n",
      " |      Draw samples of abs(A^x+iA^y) from the predictive distribution corresponding to the query points (mass_ratio,chi1z,chi2z).\n",
      " |\n",
      " |      Parameters\n",
      " |      ----------\n",
      " |      mass_ratio : array_like of shape (n_samples_X,) or float\n",
      " |          Mass ratio of the query points.\n",
      " |\n",
      " |      chi1z : array_like of shape (n_samples_X,) or float\n",
      " |          Projection along the z axis of the primary spin.\n",
      " |\n",
      " |      chi2z : array_like of shape (n_samples_X,) or float\n",
      " |          Projection along the z axis of the secondary spin.\n",
      " |\n",
      " |      lm : tuple-like object\n",
      " |          Ordered couple (l,m) specifying the angular number l and azimuthal number m of the harmonic.\n",
      " |\n",
      " |      mode : tuple-like object\n",
      " |          Ordered tuple specifying the queried quasi-normal mode.\n",
      " |          For linear modes, ordered triple (l,m,n).\n",
      " |          For quadratic modes, ordered couple of the form ((l1,m1,n1),(l2,m2,n2)).\n",
      " |\n",
      " |      n_samples : int. Default=1.\n",
      " |          Number of samples to be drawn per query point.\n",
      " |\n",
      " |      start_time : float or None. Default=None.\n",
      " |          Start time of the ringdown waveform, relative to the peak of |h_{22}|.\n",
      " |          If None (default), assume that start_time=self.t0.\n",
      " |\n",
      " |      Returns\n",
      " |      -------\n",
      " |      amp : array-like of shape (n_samples_X, n_samples)\n",
      " |\n",
      " |  sample_phase(self, mass_ratio, chi1z, chi2z, lm, mode, n_samples=1, start_time=None)\n",
      " |      Draw samples of angle(A^x+iA^y)/beta from the predictive distribution corresponding to the query points (mass_ratio,chi1z,chi2z).\n",
      " |      beta is a correction factor introduced in CITE-THE-PAPER to help fitting of A^x and A^y.\n",
      " |\n",
      " |      Parameters\n",
      " |      ----------\n",
      " |      mass_ratio : array_like of shape (n_samples,) or float\n",
      " |          Mass ratio of the query points.\n",
      " |\n",
      " |      chi1z : array_like of shape (n_samples,) or float\n",
      " |          Projection along the z axis of the primary spin.\n",
      " |\n",
      " |      chi2z : array_like of shape (n_samples,) or float\n",
      " |          Projection along the z axis of the secondary spin.\n",
      " |\n",
      " |      lm : tuple-like object\n",
      " |          Ordered couple (l,m) specifying the angular number l and azimuthal number m of the harmonic.\n",
      " |\n",
      " |      mode : tuple-like object\n",
      " |          Ordered tuple specifying the queried quasi-normal mode.\n",
      " |          For linear modes, ordered triple (l,m,n).\n",
      " |          For quadratic modes, ordered couple of the form ((l1,m1,n1),(l2,m2,n2)).\n",
      " |\n",
      " |      n_samples : int. Default=1.\n",
      " |          Number of samples to be drawn per query point.\n",
      " |\n",
      " |      start_time : float or None. Default=None\n",
      " |          Start time of the ringdown waveform, relative to the peak of |h_{22}|.\n",
      " |          If None (default), assume that start_time=self.t0.\n",
      " |\n",
      " |      Returns\n",
      " |      -------\n",
      " |      phase : array-like of shape (n_samples_X, n_samples)\n",
      " |\n",
      " |  sample_xy_amp(self, mass_ratio, chi1z, chi2z, lm, mode, n_samples=1)\n",
      " |      Draw samples of of A^x and A^y from the predictive distribution corresponding to the query points (mass_ratio,chi1z,chi2z).\n",
      " |\n",
      " |      Parameters\n",
      " |      ----------\n",
      " |      mass_ratio : array_like of shape (n_samples_X,) or float\n",
      " |          Mass ratio of the query points.\n",
      " |\n",
      " |      chi1z : array_like of shape (n_samples_X,) or float\n",
      " |          Projection along the z axis of the primary spin.\n",
      " |\n",
      " |      chi2z : array_like of shape (n_samples_X,) or float\n",
      " |          Projection along the z axis of the secondary spin.\n",
      " |\n",
      " |      lm : tuple-like object\n",
      " |          Ordered couple (l,m) specifying the angular number l and azimuthal number m of the harmonic.\n",
      " |\n",
      " |      mode : tuple-like object\n",
      " |          Ordered tuple specifying the queried quasi-normal mode.\n",
      " |          For linear modes, ordered triple (l,m,n).\n",
      " |          For quadratic modes, ordered couple of the form ((l1,m1,n1),(l2,m2,n2)).\n",
      " |\n",
      " |      n_samples : int. Default=1.\n",
      " |          Number of samples to be drawn per query point.\n",
      " |\n",
      " |      Returns\n",
      " |      -------\n",
      " |      amp_x : array-like of shape (n_samples_X, n_samples)\n",
      " |      amp_y : array-like of shape (n_samples_X, n_samples)\n",
      " |\n",
      " |  ----------------------------------------------------------------------\n",
      " |  Data descriptors defined here:\n",
      " |\n",
      " |  __dict__\n",
      " |      dictionary for instance variables\n",
      " |\n",
      " |  __weakref__\n",
      " |      list of weak references to the object\n",
      "\n"
     ]
    }
   ],
   "source": [
    "help(fit)"
   ]
  },
  {
   "cell_type": "markdown",
   "id": "97c17f07",
   "metadata": {},
   "source": [
    "## Predict relative amplitudes and phases"
   ]
  },
  {
   "cell_type": "code",
   "execution_count": 6,
   "id": "cb512da4",
   "metadata": {},
   "outputs": [
    {
     "data": {
      "text/plain": [
       "{(2, 2): [(2, 2, 0), (2, 2, 1)],\n",
       " (2, 1): [(2, 1, 0), (2, 1, 1)],\n",
       " (3, 3): [(3, 3, 0), (3, 3, 1)],\n",
       " (3, 2): [(3, 2, 0), (3, 2, 1)],\n",
       " (4, 4): [(4, 4, 0), (4, 4, 1), ((2, 2, 0), (2, 2, 0))],\n",
       " (4, 3): [(4, 3, 0), (4, 3, 1)],\n",
       " (5, 5): [(5, 5, 0), (5, 5, 1), ((2, 2, 0), (3, 3, 0))]}"
      ]
     },
     "execution_count": 6,
     "metadata": {},
     "output_type": "execute_result"
    }
   ],
   "source": [
    "## inspect available modes\n",
    "## syntax: {(l,m): lm_modes}\n",
    "fit.modes"
   ]
  },
  {
   "cell_type": "code",
   "execution_count": 14,
   "id": "4b2a36f6",
   "metadata": {},
   "outputs": [
    {
     "name": "stdout",
     "output_type": "stream",
     "text": [
      "relative amplitude 330:\t  0.115(+/-)0.018\n",
      "relative phase 330:\t  1.256(+/-)0.024\n"
     ]
    }
   ],
   "source": [
    "## binary parameters\n",
    "mass_ratio = 1.5 # defined to be >=1\n",
    "chi1z = 0.1\n",
    "chi2z = 0.\n",
    "\n",
    "## spherical-harmonic indices\n",
    "lm = (3,3)\n",
    "\n",
    "## mode indices\n",
    "mode = (3,3,0)\n",
    "\n",
    "## predict\n",
    "amp, sigma_amp = fit.predict_amp(mass_ratio,chi1z,chi2z,lm,mode,return_std=True)\n",
    "phi, sigma_phi = fit.predict_phase(mass_ratio,chi1z,chi2z,lm,mode,return_std=True)\n",
    "\n",
    "## results\n",
    "print(f'relative amplitude 330:\\t  {amp[0]:.3f}(+/-){sigma_amp[0]:.3f}')\n",
    "print(f'relative phase 330:\\t  {phi[0]:.3f}(+/-){sigma_phi[0]:.3f}')"
   ]
  },
  {
   "cell_type": "markdown",
   "id": "6a7f2dd6",
   "metadata": {},
   "source": [
    "You can convert relative amplitudes to absolute ones by simple multiplication to $A_{220}$:"
   ]
  },
  {
   "cell_type": "code",
   "execution_count": 16,
   "id": "fa3baa8d",
   "metadata": {},
   "outputs": [
    {
     "name": "stdout",
     "output_type": "stream",
     "text": [
      "Absolute amplitude 220:\t  0.173(+/-)0.001\n",
      "Absolute amplitude 330:\t  0.020(+/-)0.018\n"
     ]
    }
   ],
   "source": [
    "amp, sigma_amp = fit.predict_amp(mass_ratio,chi1z,chi2z,lm,mode,return_std=True)\n",
    "amp_220, sigma_amp_220 = fit.predict_amp(mass_ratio,chi1z,chi2z,(2,2),(2,2,0),return_std=True)\n",
    "amp_abs = amp*amp_220\n",
    "sigma_amp_abs = np.sqrt(sigma_amp**2+sigma_amp_220**2)\n",
    "\n",
    "print(f'Absolute amplitude 220:\\t  {amp_220[0]:.3f}(+/-){sigma_amp_220[0]:.3f}')\n",
    "print(f'Absolute amplitude 330:\\t  {amp_abs[0]:.3f}(+/-){sigma_amp_abs[0]:.3f}')"
   ]
  },
  {
   "cell_type": "markdown",
   "id": "4f4e1a9f",
   "metadata": {},
   "source": [
    "You can also predict $\\tilde A^{x,y}$ directly:"
   ]
  },
  {
   "cell_type": "code",
   "execution_count": 19,
   "id": "a4152c3f",
   "metadata": {},
   "outputs": [
    {
     "name": "stdout",
     "output_type": "stream",
     "text": [
      "relative amplitude x:\t  -0.093(+/-)0.022\n",
      "relative amplitude y:\t  0.068(+/-)0.005\n"
     ]
    }
   ],
   "source": [
    "## predict x and y\n",
    "amp_x, amp_y, sigma_x, sigma_y = fit.predict_xy_amp(mass_ratio,chi1z,chi2z,lm,mode,return_std=True)\n",
    "\n",
    "## results\n",
    "print(f'relative amplitude x:\\t  {amp_x[0]:.3f}(+/-){sigma_x[0]:.3f}')\n",
    "print(f'relative amplitude y:\\t  {amp_y[0]:.3f}(+/-){sigma_y[0]:.3f}')"
   ]
  },
  {
   "cell_type": "markdown",
   "id": "c1eb7734",
   "metadata": {},
   "source": [
    "By default, predicitions are returned at a starting time $20M$ after the peak. You can retrodict (or postdict) the predictions to a different starting time using the `start_time` argument:"
   ]
  },
  {
   "cell_type": "code",
   "execution_count": null,
   "id": "71996b18",
   "metadata": {},
   "outputs": [
    {
     "name": "stdout",
     "output_type": "stream",
     "text": [
      "relative amplitude 330:\t  0.117(+/-)0.019\n",
      "relative phase 330:\t  -0.566(+/-)0.024\n"
     ]
    }
   ],
   "source": [
    "## start time in units of the initial total mass M\n",
    "start_time = 10\n",
    "\n",
    "## predict\n",
    "amp, sigma_amp = fit.predict_amp(mass_ratio,chi1z,chi2z,lm,mode,return_std=True,start_time=start_time)\n",
    "phi, sigma_phi = fit.predict_phase(mass_ratio,chi1z,chi2z,lm,mode,return_std=True,start_time=start_time)\n",
    "\n",
    "## results\n",
    "print(f'relative amplitude 330:\\t  {amp[0]:.3f}(+/-){sigma_amp[0]:.3f}')\n",
    "print(f'relative phase 330:\\t  {phi[0]:.3f}(+/-){sigma_phi[0]:.3f}')"
   ]
  },
  {
   "cell_type": "markdown",
   "id": "84f01c1f",
   "metadata": {},
   "source": [
    "## Batch evaluation"
   ]
  },
  {
   "cell_type": "code",
   "execution_count": 21,
   "id": "2a8b39a6",
   "metadata": {},
   "outputs": [],
   "source": [
    "## binary parameters\n",
    "mass_ratio = np.linspace(1,8,100)\n",
    "chi1z = 0.\n",
    "chi2z = 0.\n",
    "\n",
    "## spherical-harmonic indices\n",
    "lm = (3,3)\n",
    "\n",
    "## mode indices\n",
    "mode = (3,3,0)\n",
    "\n",
    "## predict\n",
    "amp, sigma_amp = fit.predict_amp(mass_ratio,chi1z,chi2z,lm,mode,return_std=True)\n",
    "phi, sigma_phi = fit.predict_phase(mass_ratio,chi1z,chi2z,lm,mode,return_std=True)"
   ]
  },
  {
   "cell_type": "code",
   "execution_count": 22,
   "id": "dc18a8b3",
   "metadata": {},
   "outputs": [
    {
     "data": {
      "image/png": "[encoded data removed]",
      "text/plain": [
       "<Figure size 600x400 with 1 Axes>"
      ]
     },
     "metadata": {},
     "output_type": "display_data"
    }
   ],
   "source": [
    "fig, axs = plt.subplots(1,1,figsize=(6,4))\n",
    "axs.plot(mass_ratio,amp,color='k',linestyle='--',label=r'$\\mu_{\\rm GPR}$')\n",
    "axs.fill_between(mass_ratio,amp-2*sigma_amp,amp+2*sigma_amp,alpha=0.5,\\\n",
    "                 color='cornflowerblue',label=r'$2\\sigma_{\\rm GPR}$')\n",
    "axs.set_xlabel('mass ratio',fontsize=12)\n",
    "axs.set_ylabel(r'$A_{330}/A_{220}$',fontsize=13)\n",
    "axs.minorticks_on()\n",
    "axs.legend(fontsize=12,frameon=False)\n",
    "plt.show()"
   ]
  }
 ],
 "metadata": {
  "kernelspec": {
   "display_name": "pm_env",
   "language": "python",
   "name": "python3"
  },
  "language_info": {
   "codemirror_mode": {
    "name": "ipython",
    "version": 3
   },
   "file_extension": ".py",
   "mimetype": "text/x-python",
   "name": "python",
   "nbconvert_exporter": "python",
   "pygments_lexer": "ipython3",
   "version": "3.12.9"
  }
 },
 "nbformat": 4,
 "nbformat_minor": 5
}
