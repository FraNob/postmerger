{
 "cells": [
  {
   "cell_type": "markdown",
   "id": "1ff7c975",
   "metadata": {},
   "source": [
    "# Example usage of `postMerger.final_mass` \n",
    "# and `postMerger.final_spin`"
   ]
  },
  {
   "cell_type": "code",
   "execution_count": 1,
   "id": "dbdc045e",
   "metadata": {},
   "outputs": [],
   "source": [
    "import sys\n",
    "sys.path.append('..')"
   ]
  },
  {
   "cell_type": "code",
   "execution_count": 2,
   "id": "3a0e6e8d",
   "metadata": {},
   "outputs": [],
   "source": [
    "import numpy as np"
   ]
  },
  {
   "cell_type": "code",
   "execution_count": 3,
   "id": "c2b72034",
   "metadata": {},
   "outputs": [],
   "source": [
    "import postMerger as pM"
   ]
  },
  {
   "cell_type": "markdown",
   "id": "698492da",
   "metadata": {},
   "source": [
    "## Read documentation"
   ]
  },
  {
   "cell_type": "code",
   "execution_count": 4,
   "id": "583fb78a",
   "metadata": {},
   "outputs": [
    {
     "name": "stdout",
     "output_type": "stream",
     "text": [
      "Help on function final_mass in module postMerger._utils:\n",
      "\n",
      "final_mass(mass1, mass2, spin1, spin2, alpha=0.0, beta=0.0, gamma=0.0, aligned_spins=False, method='B12')\n",
      "    Returns the final mass of the Kerr black hole remnant from a quasi-circular binary black-hole merger.\n",
      "    All available methods are calibrated on numerical simulations of binaries with aligned spins.\n",
      "    \n",
      "    The effects of precession are ignored and only the parallel components of the spins are used in the final expression.\n",
      "    \n",
      "    Parameters\n",
      "    ----------\n",
      "    mass1 : float or array_like\n",
      "        Mass of the primary component.\n",
      "    \n",
      "    mass2 : float or array_like\n",
      "        Mass of the secondary component.\n",
      "    \n",
      "    spin1 : float or array_like \n",
      "        Magnitude of the dimensionless spin of the primary component.\n",
      "    \n",
      "    spin2 : float or array_like\n",
      "        Magnitude of the dimensionless spin of the secondary component.\n",
      "    \n",
      "    alpha : float or array_like. Default=0.\n",
      "        Angle between the progenitor spins.\n",
      "        This parameter is never used and it is made available ony for consistency with the arguments of the final_spin function.\n",
      "    \n",
      "    beta : float or array_like. Default=0.\n",
      "        Angle between spin1 and the z direction.\n",
      "    \n",
      "    gamma : float or array-like. Default=0.\n",
      "        Angle between spin2 and the z direction.\n",
      "    \n",
      "    method : str. Default='B12'.\n",
      "        Method to use to compute the final spin. Allowed methods: ['B12','phenom'].\n",
      "        If 'B12', it uses the fit in https://arxiv.org/abs/1206.3803 .\n",
      "        If 'phenom', it uses the fit in https://arxiv.org/abs/1508.07250 .\n",
      "    \n",
      "    aligned_spins : bool. Default=False.\n",
      "        Whether to assume aligned spins. If True, spin1 and spin2 can also be negative.\n",
      "        Enabling this option overwrites the parameters alpha, beta ang gamma, setting them to zero.\n",
      "    \n",
      "    Returns\n",
      "    -------\n",
      "        float or array_like\n",
      "\n"
     ]
    }
   ],
   "source": [
    "help(pM.final_mass)"
   ]
  },
  {
   "cell_type": "code",
   "execution_count": 5,
   "id": "19776ca9",
   "metadata": {},
   "outputs": [
    {
     "name": "stdout",
     "output_type": "stream",
     "text": [
      "Help on function final_spin in module postMerger._utils:\n",
      "\n",
      "final_spin(mass1, mass2, spin1, spin2, alpha=0.0, beta=0.0, gamma=0.0, method='H16', aligned_spins=False, return_angle=False)\n",
      "    Returns the magnitude of the dimensionless final spin of the Kerr black hole remnant from a quasi-circular binary black-hole merger. Optionally, returns the angle between the final spin and the orbital plane.\n",
      "    All avaiable methods are calibrated on numerical simulations of binaries with aligned spins.\n",
      "    \n",
      "    The effects of precession are treated effectively: they are included by summing in quadrature the planar components of the initial spins to the fitted expression for the parallel component of the final spin, and assuming that the evolution of the planar components has a negligible effect on the final expression. See https://dcc.ligo.org/T1600168/public for further details.\n",
      "    \n",
      "    Parameters\n",
      "    ----------\n",
      "    mass1 : float or array_like\n",
      "        Mass of the primary component.\n",
      "    \n",
      "    mass2 : float or array_like:\n",
      "        Mass of the secondary component.\n",
      "    \n",
      "    spin1 : float or array_like\n",
      "        Magnitude of the dimensionless spin of the primary component.\n",
      "    \n",
      "    spin2 : float or array_like\n",
      "        Magnitude of the dimensionless spin of the secondary component.\n",
      "    \n",
      "    alpha : float or array_like. Default=0.\n",
      "        Angle between the progenitor spins.\n",
      "        This parameter is never used and it is made available only for consistency with the arguments of the final_spin function.\n",
      "    \n",
      "    beta : float or array_like. Default=0.\n",
      "        Angle between spin1 and the z direction.\n",
      "    \n",
      "    gamma : float or array-like. Default=0.\n",
      "        Angle between spin2 and the z direction.\n",
      "    \n",
      "    method : str. Default='H16'.\n",
      "        Method to use to compute the final spin. Allowed options: ['H16','phenom'].\n",
      "        If 'H16', it uses the fit in https://arxiv.org/abs/1605.01938 .\n",
      "        If 'phenom', it uses the fit in https://arxiv.org/abs/1508.07250 .\n",
      "    \n",
      "    aligned_spins : bool. Default=False.\n",
      "        Whether to assume aligned spins. If True, spin1 and spin2 can also be negative.\n",
      "        Enabling this option overwrites the parameters alpha, beta ang gamma, setting them to zero.\n",
      "    \n",
      "    return_angle : bool. Default=False.\n",
      "        Whether to return the angle between the final spin and the orbital plane.\n",
      "        \n",
      "    Returns\n",
      "    -------\n",
      "        final spin: float or array_like\n",
      "        angle : float or array_like (optional)\n",
      "\n"
     ]
    }
   ],
   "source": [
    "help(pM.final_spin)"
   ]
  },
  {
   "cell_type": "markdown",
   "id": "6cb21bbe",
   "metadata": {},
   "source": [
    "## Compute final properties (aligned spins)"
   ]
  },
  {
   "cell_type": "code",
   "execution_count": 6,
   "id": "f1783acf",
   "metadata": {},
   "outputs": [
    {
     "name": "stdout",
     "output_type": "stream",
     "text": [
      "final mass: 29.62197225289648\n",
      "final spin: 0.12753062487767092\n"
     ]
    }
   ],
   "source": [
    "## initial masses (mass1>=mass2 is required)\n",
    "mass1 = 25\n",
    "mass2 = 5\n",
    "\n",
    "## initial spins (magnitudes)\n",
    "spin1 = 0.9\n",
    "spin2 = 0.1\n",
    "\n",
    "## angle between spins and z-direction\n",
    "## [0,pi/2] is positive-z direction\n",
    "## [pi/2,pi] is negative-z direction\n",
    "beta = np.pi\n",
    "gamma = 0.\n",
    "\n",
    "## relative orientation between spin1 and spin2\n",
    "## here, since the spins are (anti-)aligned, alpha is forced to be arccos(cos(beta)*cos(gamma))\n",
    "alpha = np.arccos(np.cos(beta)*np.cos(gamma))\n",
    "\n",
    "## compute final mass and final spin\n",
    "massf = pM.final_mass(mass1,mass2,spin1,spin2,alpha,beta,gamma)\n",
    "spinf = pM.final_spin(mass1,mass2,spin1,spin2,alpha,beta,gamma)\n",
    "\n",
    "## results\n",
    "print('final mass:',massf)\n",
    "print('final spin:',spinf)"
   ]
  },
  {
   "cell_type": "markdown",
   "id": "6d1df543",
   "metadata": {},
   "source": [
    "Note that the default use of `final_spin` returns the magnitude `spinf` of the final spin, but its the relative angle to the z-direction. The latter can be obtained through the `return_angle=True` option:"
   ]
  },
  {
   "cell_type": "code",
   "execution_count": 7,
   "id": "2575d9ba",
   "metadata": {},
   "outputs": [
    {
     "name": "stdout",
     "output_type": "stream",
     "text": [
      "final spin: 0.12753062487767092\n",
      "final orientation: -1.0\n"
     ]
    }
   ],
   "source": [
    "spinf, thetaf = pM.final_spin(mass1,mass2,spin1,spin2,alpha,beta,gamma,return_angle=True)\n",
    "\n",
    "## results\n",
    "print('final spin:',spinf)\n",
    "print('final orientation:',np.cos(thetaf))"
   ]
  },
  {
   "cell_type": "markdown",
   "id": "0e3b35f1",
   "metadata": {},
   "source": [
    "The orientation signals hat the final spin points downward.\n",
    "\n",
    "When spins are (anti-)aligned, it is inconvenient to specify their magnitudes and their orientations by hand. It is much more convenient to input their z-components directly. This can be done by setting `aligned_spins=True`:"
   ]
  },
  {
   "cell_type": "code",
   "execution_count": 8,
   "id": "b1cf120e",
   "metadata": {},
   "outputs": [
    {
     "name": "stdout",
     "output_type": "stream",
     "text": [
      "final mass: 29.62197225289648\n",
      "final spin: -0.12753062487767092\n",
      "final orientation: 1.0\n"
     ]
    }
   ],
   "source": [
    "## initial spins (z-components)\n",
    "chi1z = -0.9\n",
    "chi2z = 0.1\n",
    "\n",
    "## compute final mass and final spin\n",
    "massf = pM.final_mass(mass1,mass2,chi1z,chi2z,aligned_spins=True)\n",
    "chifz, thetaf = pM.final_spin(mass1,mass2,chi1z,chi2z,aligned_spins=True,return_angle=True)\n",
    "\n",
    "## results\n",
    "print('final mass:',massf)\n",
    "print('final spin:',chifz)\n",
    "print('final orientation:',np.cos(thetaf))"
   ]
  },
  {
   "cell_type": "markdown",
   "id": "71abd093",
   "metadata": {},
   "source": [
    "## Compute final properties (precessing spins)\n",
    "\n",
    "All available methods for `final_mass` and `final_spin` are calibrated on non-precessing NR simulations.\n",
    "\n",
    "When allowing for precession, `final_mass` ignores the planar components of the spins. `final_spin`, instead, assumes that the planar components do not evolve appreciably and sums them in quadrature to the expression for the parallel component obtained with `aligned_spins=True`. \n",
    "\n",
    "**_These approximations can be dropped by using more sophisticated fits, such as GPR regression. In future releases, we are going to update the package with a GPR regression for the final mass and spin._**"
   ]
  },
  {
   "cell_type": "code",
   "execution_count": 9,
   "id": "b3e404d1",
   "metadata": {},
   "outputs": [
    {
     "name": "stdout",
     "output_type": "stream",
     "text": [
      "final mass: 29.161883043337433\n",
      "final spin: 0.8700505098449333\n",
      "final orientation: 0.7814250943527158\n"
     ]
    }
   ],
   "source": [
    "## initial masses (mass1>=mass2 is required)\n",
    "mass1 = 25\n",
    "mass2 = 5\n",
    "\n",
    "## initial spins (magnitude)\n",
    "spin1 = 0.9\n",
    "spin2 = 0.1\n",
    "\n",
    "## angle between spins and z-direction\n",
    "## [0,pi/2] is positive-z direction\n",
    "## [pi/2,pi] is negative-z direction\n",
    "beta = np.pi/3\n",
    "gamma = np.pi/4\n",
    "\n",
    "## relative orientation between spin1 and spin2\n",
    "## now we are free to specify it\n",
    "alpha = np.pi/6\n",
    "\n",
    "## compute final mass and final spin\n",
    "massf = pM.final_mass(mass1,mass2,spin1,spin2,alpha,beta,gamma)\n",
    "spinf, thetaf = pM.final_spin(mass1,mass2,spin1,spin2,alpha,beta,gamma,return_angle=True)\n",
    "\n",
    "## results\n",
    "print('final mass:',massf)\n",
    "print('final spin:',spinf)\n",
    "print('final orientation:',np.cos(thetaf))"
   ]
  },
  {
   "cell_type": "markdown",
   "id": "c9f227c0",
   "metadata": {},
   "source": [
    "### Batch evaluation"
   ]
  },
  {
   "cell_type": "code",
   "execution_count": 10,
   "id": "19832c07",
   "metadata": {},
   "outputs": [
    {
     "name": "stdout",
     "output_type": "stream",
     "text": [
      "final mass: [29.62197225 29.44714637 28.73246817]\n",
      "final spin: [0.12753062 0.41759762 0.92634437]\n",
      "final orientation: [-1.  1.  1.]\n"
     ]
    }
   ],
   "source": [
    "## initial masses (mass1>=mass2 is required)\n",
    "mass1 = 25\n",
    "mass2 = 5\n",
    "\n",
    "## initial spins (z-components)\n",
    "spin1 = np.array([0.9,0.,0.9])\n",
    "spin2 = np.array([0.1,0.,0.1])\n",
    "\n",
    "## angle between spins and z-direction\n",
    "## [0,pi/2] is positive-z direction\n",
    "## [pi/2,pi] is negative-z direction\n",
    "beta = np.array([np.pi,0.,0.])\n",
    "gamma = np.array([0.,0.,0.])\n",
    "\n",
    "## relative orientation between spin1 and spin2\n",
    "## here, since the spins are (anti-)aligned, alpha is forced to be arccos(cos(beta)*cos(gamma))\n",
    "alpha = np.arccos(np.cos(beta)*np.cos(gamma))\n",
    "\n",
    "## compute final mass and final spin\n",
    "massf = pM.final_mass(mass1,mass2,spin1,spin2,alpha,beta,gamma)\n",
    "chifz, thetaf = pM.final_spin(mass1,mass2,spin1,spin2,alpha,beta,gamma,aligned_spins=False,return_angle=True)\n",
    "\n",
    "## results\n",
    "print('final mass:',massf)\n",
    "print('final spin:',chifz)\n",
    "print('final orientation:',np.cos(thetaf))"
   ]
  }
 ],
 "metadata": {
  "kernelspec": {
   "display_name": "Python 3",
   "language": "python",
   "name": "python3"
  },
  "language_info": {
   "codemirror_mode": {
    "name": "ipython",
    "version": 3
   },
   "file_extension": ".py",
   "mimetype": "text/x-python",
   "name": "python",
   "nbconvert_exporter": "python",
   "pygments_lexer": "ipython3",
   "version": "3.8.8"
  }
 },
 "nbformat": 4,
 "nbformat_minor": 5
}
