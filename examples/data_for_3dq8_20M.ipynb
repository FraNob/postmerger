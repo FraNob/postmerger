{
 "cells": [
  {
   "cell_type": "markdown",
   "id": "212b0da7",
   "metadata": {},
   "source": [
    "# Data for reproducibility of `3dq8_20M`\n",
    "\n",
    "We provide a tutorial on how to load metadata and numerical fits to reproduce our results and/or producing your own fit to the same data used for the `3dq8_20M` model."
   ]
  },
  {
   "cell_type": "code",
   "execution_count": 1,
   "id": "a93d5d6e",
   "metadata": {},
   "outputs": [],
   "source": [
    "import pandas as pd\n",
    "import numpy as np\n",
    "import joblib"
   ]
  },
  {
   "cell_type": "markdown",
   "id": "6f2da927",
   "metadata": {},
   "source": [
    "## Load metadata\n",
    "\n",
    "We load metadata from the public SXS catalog of binary black holes (with data up to Aug 2024)"
   ]
  },
  {
   "cell_type": "code",
   "execution_count": 2,
   "id": "6794c6a8",
   "metadata": {
    "scrolled": true
   },
   "outputs": [
    {
     "data": {
      "text/html": [
       "<div>\n",
       "<style scoped>\n",
       "    .dataframe tbody tr th:only-of-type {\n",
       "        vertical-align: middle;\n",
       "    }\n",
       "\n",
       "    .dataframe tbody tr th {\n",
       "        vertical-align: top;\n",
       "    }\n",
       "\n",
       "    .dataframe thead th {\n",
       "        text-align: right;\n",
       "    }\n",
       "</style>\n",
       "<table border=\"1\" class=\"dataframe\">\n",
       "  <thead>\n",
       "    <tr style=\"text-align: right;\">\n",
       "      <th></th>\n",
       "      <th>waveform_id</th>\n",
       "      <th>mass1</th>\n",
       "      <th>mass2</th>\n",
       "      <th>mass_ratio</th>\n",
       "      <th>spin1</th>\n",
       "      <th>chi1x</th>\n",
       "      <th>chi1y</th>\n",
       "      <th>chi1z</th>\n",
       "      <th>spin2</th>\n",
       "      <th>chi2x</th>\n",
       "      <th>...</th>\n",
       "      <th>chi2z</th>\n",
       "      <th>alpha</th>\n",
       "      <th>beta</th>\n",
       "      <th>gamma</th>\n",
       "      <th>massf</th>\n",
       "      <th>spinf</th>\n",
       "      <th>chifx</th>\n",
       "      <th>chify</th>\n",
       "      <th>chifz</th>\n",
       "      <th>eccentricity</th>\n",
       "    </tr>\n",
       "  </thead>\n",
       "  <tbody>\n",
       "    <tr>\n",
       "      <th>2014</th>\n",
       "      <td>SXS:BBH:2160</td>\n",
       "      <td>0.750017</td>\n",
       "      <td>0.250000</td>\n",
       "      <td>3.000070</td>\n",
       "      <td>0.600044</td>\n",
       "      <td>-7.643754e-08</td>\n",
       "      <td>1.709403e-07</td>\n",
       "      <td>0.600044</td>\n",
       "      <td>0.399866</td>\n",
       "      <td>-9.215039e-08</td>\n",
       "      <td>...</td>\n",
       "      <td>-0.399866</td>\n",
       "      <td>3.141592e+00</td>\n",
       "      <td>3.118582e-07</td>\n",
       "      <td>3.141592e+00</td>\n",
       "      <td>0.958900</td>\n",
       "      <td>0.785484</td>\n",
       "      <td>-1.338528e-08</td>\n",
       "      <td>1.751252e-07</td>\n",
       "      <td>0.785484</td>\n",
       "      <td>0.000180</td>\n",
       "    </tr>\n",
       "    <tr>\n",
       "      <th>2015</th>\n",
       "      <td>SXS:BBH:2161</td>\n",
       "      <td>0.750023</td>\n",
       "      <td>0.249996</td>\n",
       "      <td>3.000142</td>\n",
       "      <td>0.599951</td>\n",
       "      <td>5.996321e-07</td>\n",
       "      <td>-4.469218e-08</td>\n",
       "      <td>0.599951</td>\n",
       "      <td>0.000006</td>\n",
       "      <td>2.309260e-09</td>\n",
       "      <td>...</td>\n",
       "      <td>0.000006</td>\n",
       "      <td>3.552439e-02</td>\n",
       "      <td>1.002262e-06</td>\n",
       "      <td>3.552433e-02</td>\n",
       "      <td>0.957052</td>\n",
       "      <td>0.796406</td>\n",
       "      <td>5.573484e-07</td>\n",
       "      <td>2.401980e-07</td>\n",
       "      <td>0.796406</td>\n",
       "      <td>0.000164</td>\n",
       "    </tr>\n",
       "    <tr>\n",
       "      <th>2016</th>\n",
       "      <td>SXS:BBH:2162</td>\n",
       "      <td>0.750016</td>\n",
       "      <td>0.249999</td>\n",
       "      <td>3.000073</td>\n",
       "      <td>0.600050</td>\n",
       "      <td>-8.447546e-08</td>\n",
       "      <td>5.010888e-08</td>\n",
       "      <td>0.600050</td>\n",
       "      <td>0.400090</td>\n",
       "      <td>-2.305915e-08</td>\n",
       "      <td>...</td>\n",
       "      <td>0.400090</td>\n",
       "      <td>1.884864e-07</td>\n",
       "      <td>1.645887e-07</td>\n",
       "      <td>1.021572e-07</td>\n",
       "      <td>0.954930</td>\n",
       "      <td>0.806964</td>\n",
       "      <td>-4.890708e-08</td>\n",
       "      <td>7.643711e-09</td>\n",
       "      <td>0.806964</td>\n",
       "      <td>0.000240</td>\n",
       "    </tr>\n",
       "    <tr>\n",
       "      <th>2017</th>\n",
       "      <td>SXS:BBH:2163</td>\n",
       "      <td>0.749995</td>\n",
       "      <td>0.249993</td>\n",
       "      <td>3.000059</td>\n",
       "      <td>0.599908</td>\n",
       "      <td>-1.924846e-08</td>\n",
       "      <td>8.244233e-08</td>\n",
       "      <td>0.599908</td>\n",
       "      <td>0.600011</td>\n",
       "      <td>1.990578e-08</td>\n",
       "      <td>...</td>\n",
       "      <td>0.600011</td>\n",
       "      <td>1.173319e-07</td>\n",
       "      <td>1.413648e-07</td>\n",
       "      <td>5.372690e-08</td>\n",
       "      <td>0.953784</td>\n",
       "      <td>0.811977</td>\n",
       "      <td>2.394728e-08</td>\n",
       "      <td>7.779425e-08</td>\n",
       "      <td>0.811977</td>\n",
       "      <td>0.000196</td>\n",
       "    </tr>\n",
       "    <tr>\n",
       "      <th>2018</th>\n",
       "      <td>SXS:BBH:2265</td>\n",
       "      <td>0.749997</td>\n",
       "      <td>0.249991</td>\n",
       "      <td>3.000099</td>\n",
       "      <td>0.000002</td>\n",
       "      <td>5.926665e-08</td>\n",
       "      <td>-3.818597e-08</td>\n",
       "      <td>0.000002</td>\n",
       "      <td>0.000005</td>\n",
       "      <td>6.723248e-08</td>\n",
       "      <td>...</td>\n",
       "      <td>0.000005</td>\n",
       "      <td>2.225474e-02</td>\n",
       "      <td>3.151077e-02</td>\n",
       "      <td>1.242202e-02</td>\n",
       "      <td>0.971102</td>\n",
       "      <td>0.540609</td>\n",
       "      <td>5.332686e-08</td>\n",
       "      <td>-7.735071e-08</td>\n",
       "      <td>0.540609</td>\n",
       "      <td>0.000069</td>\n",
       "    </tr>\n",
       "  </tbody>\n",
       "</table>\n",
       "<p>5 rows × 21 columns</p>\n",
       "</div>"
      ],
      "text/plain": [
       "       waveform_id     mass1     mass2  mass_ratio     spin1         chi1x  \\\n",
       "2014  SXS:BBH:2160  0.750017  0.250000    3.000070  0.600044 -7.643754e-08   \n",
       "2015  SXS:BBH:2161  0.750023  0.249996    3.000142  0.599951  5.996321e-07   \n",
       "2016  SXS:BBH:2162  0.750016  0.249999    3.000073  0.600050 -8.447546e-08   \n",
       "2017  SXS:BBH:2163  0.749995  0.249993    3.000059  0.599908 -1.924846e-08   \n",
       "2018  SXS:BBH:2265  0.749997  0.249991    3.000099  0.000002  5.926665e-08   \n",
       "\n",
       "             chi1y     chi1z     spin2         chi2x  ...     chi2z  \\\n",
       "2014  1.709403e-07  0.600044  0.399866 -9.215039e-08  ... -0.399866   \n",
       "2015 -4.469218e-08  0.599951  0.000006  2.309260e-09  ...  0.000006   \n",
       "2016  5.010888e-08  0.600050  0.400090 -2.305915e-08  ...  0.400090   \n",
       "2017  8.244233e-08  0.599908  0.600011  1.990578e-08  ...  0.600011   \n",
       "2018 -3.818597e-08  0.000002  0.000005  6.723248e-08  ...  0.000005   \n",
       "\n",
       "             alpha          beta         gamma     massf     spinf  \\\n",
       "2014  3.141592e+00  3.118582e-07  3.141592e+00  0.958900  0.785484   \n",
       "2015  3.552439e-02  1.002262e-06  3.552433e-02  0.957052  0.796406   \n",
       "2016  1.884864e-07  1.645887e-07  1.021572e-07  0.954930  0.806964   \n",
       "2017  1.173319e-07  1.413648e-07  5.372690e-08  0.953784  0.811977   \n",
       "2018  2.225474e-02  3.151077e-02  1.242202e-02  0.971102  0.540609   \n",
       "\n",
       "             chifx         chify     chifz  eccentricity  \n",
       "2014 -1.338528e-08  1.751252e-07  0.785484      0.000180  \n",
       "2015  5.573484e-07  2.401980e-07  0.796406      0.000164  \n",
       "2016 -4.890708e-08  7.643711e-09  0.806964      0.000240  \n",
       "2017  2.394728e-08  7.779425e-08  0.811977      0.000196  \n",
       "2018  5.332686e-08 -7.735071e-08  0.540609      0.000069  \n",
       "\n",
       "[5 rows x 21 columns]"
      ]
     },
     "execution_count": 2,
     "metadata": {},
     "output_type": "execute_result"
    }
   ],
   "source": [
    "filename = '../postmerger/data/waveform_params/SXS_params.csv'\n",
    "df = pd.read_csv(filename)\n",
    "df.tail()"
   ]
  },
  {
   "cell_type": "code",
   "execution_count": 3,
   "id": "8f85b8b3",
   "metadata": {},
   "outputs": [
    {
     "name": "stdout",
     "output_type": "stream",
     "text": [
      "['waveform_id', 'mass1', 'mass2', 'mass_ratio', 'spin1', 'chi1x', 'chi1y', 'chi1z', 'spin2', 'chi2x', 'chi2y', 'chi2z', 'alpha', 'beta', 'gamma', 'massf', 'spinf', 'chifx', 'chify', 'chifz', 'eccentricity']\n"
     ]
    }
   ],
   "source": [
    "## list of column names\n",
    "column_names = list(df.columns)\n",
    "print(column_names)"
   ]
  },
  {
   "cell_type": "markdown",
   "id": "ff27d782",
   "metadata": {},
   "source": [
    "We select non-precessing binaries imposing the following criteria:\n",
    "- if the spin magnitudes $||\\vec\\chi||<0.001$, the binary is classified as _non-spinning_;\n",
    "- if the relative magnitude of the in-plane components $|\\chi_{x,y}|/||\\vec\\chi||<0.001$, the binary is classified as (spinning) _non-precessing_\n",
    "\n",
    "Out of the total 2019 binaries, 117 are non-spinning and 416 are non-precessing.\n",
    "\n",
    "We also select non-eccentric binaries imposing that the eccentricity $e<0.001$, resulting in 1512 non-eccentric binaries.\n",
    "\n",
    "Finally, we consider the subset of (spinning or non-spinning) non-precessing, non eccentric binaries, resulting in 394 configurations."
   ]
  },
  {
   "cell_type": "code",
   "execution_count": 4,
   "id": "6e296081",
   "metadata": {},
   "outputs": [
    {
     "data": {
      "text/plain": [
       "(117,)"
      ]
     },
     "execution_count": 4,
     "metadata": {},
     "output_type": "execute_result"
    }
   ],
   "source": [
    "## select non-spinning binaries\n",
    "mask_NS = (df['spin1']<1e-3)\n",
    "mask_NS &= (df['spin2']<1e-3)\n",
    "df2 = df[mask_NS]\n",
    "df2['eccentricity'].shape"
   ]
  },
  {
   "cell_type": "code",
   "execution_count": 5,
   "id": "a114ce5e",
   "metadata": {},
   "outputs": [
    {
     "data": {
      "text/plain": [
       "(416,)"
      ]
     },
     "execution_count": 5,
     "metadata": {},
     "output_type": "execute_result"
    }
   ],
   "source": [
    "## select spinning non-precessing binaries\n",
    "mask_NP = ~mask_NS\n",
    "mask_NP &= (df['chi1x'].abs()/df['spin1']<1e-3)\n",
    "mask_NP &= (df['chi1y'].abs()/df['spin1']<1e-3)\n",
    "mask_NP &= (df['chi2x'].abs()/df['spin2']<1e-3)\n",
    "mask_NP &= (df['chi2y'].abs()/df['spin2']<1e-3)\n",
    "df2 = df[mask_NP]\n",
    "df2['eccentricity'].shape"
   ]
  },
  {
   "cell_type": "code",
   "execution_count": 6,
   "id": "931f9c26",
   "metadata": {},
   "outputs": [
    {
     "data": {
      "text/plain": [
       "(1512,)"
      ]
     },
     "execution_count": 6,
     "metadata": {},
     "output_type": "execute_result"
    }
   ],
   "source": [
    "## select non-eccentric binaries\n",
    "mask_NE = df['eccentricity']<1e-3\n",
    "df2 = df[mask_NE]\n",
    "df2['eccentricity'].shape"
   ]
  },
  {
   "cell_type": "code",
   "execution_count": 7,
   "id": "c55a8aad",
   "metadata": {},
   "outputs": [
    {
     "data": {
      "text/plain": [
       "(394,)"
      ]
     },
     "execution_count": 7,
     "metadata": {},
     "output_type": "execute_result"
    }
   ],
   "source": [
    "## all non-precessing non-eccentric binaries\n",
    "mask = (mask_NS | mask_NP) & mask_NE\n",
    "df2 = df[mask]\n",
    "df2['eccentricity'].shape"
   ]
  },
  {
   "cell_type": "markdown",
   "id": "6a29425e",
   "metadata": {},
   "source": [
    "We will be interested in a subset of columns:"
   ]
  },
  {
   "cell_type": "code",
   "execution_count": 8,
   "id": "85d99939",
   "metadata": {},
   "outputs": [
    {
     "data": {
      "text/html": [
       "<div>\n",
       "<style scoped>\n",
       "    .dataframe tbody tr th:only-of-type {\n",
       "        vertical-align: middle;\n",
       "    }\n",
       "\n",
       "    .dataframe tbody tr th {\n",
       "        vertical-align: top;\n",
       "    }\n",
       "\n",
       "    .dataframe thead th {\n",
       "        text-align: right;\n",
       "    }\n",
       "</style>\n",
       "<table border=\"1\" class=\"dataframe\">\n",
       "  <thead>\n",
       "    <tr style=\"text-align: right;\">\n",
       "      <th></th>\n",
       "      <th>waveform_id</th>\n",
       "      <th>mass1</th>\n",
       "      <th>mass2</th>\n",
       "      <th>mass_ratio</th>\n",
       "      <th>chi1z</th>\n",
       "      <th>chi2z</th>\n",
       "      <th>massf</th>\n",
       "      <th>chifz</th>\n",
       "    </tr>\n",
       "  </thead>\n",
       "  <tbody>\n",
       "    <tr>\n",
       "      <th>0</th>\n",
       "      <td>SXS:BBH:0001</td>\n",
       "      <td>0.500000</td>\n",
       "      <td>0.500000</td>\n",
       "      <td>1.000000</td>\n",
       "      <td>1.209309e-07</td>\n",
       "      <td>1.221969e-07</td>\n",
       "      <td>0.951609</td>\n",
       "      <td>0.686462</td>\n",
       "    </tr>\n",
       "    <tr>\n",
       "      <th>1</th>\n",
       "      <td>SXS:BBH:0002</td>\n",
       "      <td>0.500000</td>\n",
       "      <td>0.500000</td>\n",
       "      <td>1.000000</td>\n",
       "      <td>9.484007e-08</td>\n",
       "      <td>9.314798e-08</td>\n",
       "      <td>0.951610</td>\n",
       "      <td>0.686448</td>\n",
       "    </tr>\n",
       "    <tr>\n",
       "      <th>6</th>\n",
       "      <td>SXS:BBH:0007</td>\n",
       "      <td>0.600000</td>\n",
       "      <td>0.400000</td>\n",
       "      <td>1.499999</td>\n",
       "      <td>8.644276e-08</td>\n",
       "      <td>1.553639e-07</td>\n",
       "      <td>0.955270</td>\n",
       "      <td>0.664091</td>\n",
       "    </tr>\n",
       "    <tr>\n",
       "      <th>13</th>\n",
       "      <td>SXS:BBH:0014</td>\n",
       "      <td>0.600272</td>\n",
       "      <td>0.400000</td>\n",
       "      <td>1.500679</td>\n",
       "      <td>-4.995200e-01</td>\n",
       "      <td>2.169143e-07</td>\n",
       "      <td>0.962685</td>\n",
       "      <td>0.540291</td>\n",
       "    </tr>\n",
       "    <tr>\n",
       "      <th>18</th>\n",
       "      <td>SXS:BBH:0019</td>\n",
       "      <td>0.600272</td>\n",
       "      <td>0.400191</td>\n",
       "      <td>1.499964</td>\n",
       "      <td>-4.995170e-01</td>\n",
       "      <td>4.994650e-01</td>\n",
       "      <td>0.959582</td>\n",
       "      <td>0.586755</td>\n",
       "    </tr>\n",
       "  </tbody>\n",
       "</table>\n",
       "</div>"
      ],
      "text/plain": [
       "     waveform_id     mass1     mass2  mass_ratio         chi1z         chi2z  \\\n",
       "0   SXS:BBH:0001  0.500000  0.500000    1.000000  1.209309e-07  1.221969e-07   \n",
       "1   SXS:BBH:0002  0.500000  0.500000    1.000000  9.484007e-08  9.314798e-08   \n",
       "6   SXS:BBH:0007  0.600000  0.400000    1.499999  8.644276e-08  1.553639e-07   \n",
       "13  SXS:BBH:0014  0.600272  0.400000    1.500679 -4.995200e-01  2.169143e-07   \n",
       "18  SXS:BBH:0019  0.600272  0.400191    1.499964 -4.995170e-01  4.994650e-01   \n",
       "\n",
       "       massf     chifz  \n",
       "0   0.951609  0.686462  \n",
       "1   0.951610  0.686448  \n",
       "6   0.955270  0.664091  \n",
       "13  0.962685  0.540291  \n",
       "18  0.959582  0.586755  "
      ]
     },
     "execution_count": 8,
     "metadata": {},
     "output_type": "execute_result"
    }
   ],
   "source": [
    "columns = ['waveform_id','mass1','mass2','mass_ratio','chi1z','chi2z','massf','chifz']\n",
    "params = df[mask][columns]\n",
    "params.head()"
   ]
  },
  {
   "cell_type": "markdown",
   "id": "5e95f70e",
   "metadata": {},
   "source": [
    "We also renormalize mass1 and mass2 such that their sum is 1, because SXS waveforms are provided in units of total mass. A corresponding rescale of the total mass is also needed."
   ]
  },
  {
   "cell_type": "code",
   "execution_count": 9,
   "id": "2ca8ba2b",
   "metadata": {},
   "outputs": [
    {
     "data": {
      "text/html": [
       "<div>\n",
       "<style scoped>\n",
       "    .dataframe tbody tr th:only-of-type {\n",
       "        vertical-align: middle;\n",
       "    }\n",
       "\n",
       "    .dataframe tbody tr th {\n",
       "        vertical-align: top;\n",
       "    }\n",
       "\n",
       "    .dataframe thead th {\n",
       "        text-align: right;\n",
       "    }\n",
       "</style>\n",
       "<table border=\"1\" class=\"dataframe\">\n",
       "  <thead>\n",
       "    <tr style=\"text-align: right;\">\n",
       "      <th></th>\n",
       "      <th>waveform_id</th>\n",
       "      <th>mass1</th>\n",
       "      <th>mass2</th>\n",
       "      <th>mass_ratio</th>\n",
       "      <th>chi1z</th>\n",
       "      <th>chi2z</th>\n",
       "      <th>massf</th>\n",
       "      <th>chifz</th>\n",
       "    </tr>\n",
       "  </thead>\n",
       "  <tbody>\n",
       "    <tr>\n",
       "      <th>2013</th>\n",
       "      <td>SXS:BBH:2159</td>\n",
       "      <td>0.749994</td>\n",
       "      <td>0.250006</td>\n",
       "      <td>2.999904</td>\n",
       "      <td>0.600059</td>\n",
       "      <td>-0.599733</td>\n",
       "      <td>0.959753</td>\n",
       "      <td>0.779858</td>\n",
       "    </tr>\n",
       "    <tr>\n",
       "      <th>2014</th>\n",
       "      <td>SXS:BBH:2160</td>\n",
       "      <td>0.750004</td>\n",
       "      <td>0.249996</td>\n",
       "      <td>3.000070</td>\n",
       "      <td>0.600044</td>\n",
       "      <td>-0.399866</td>\n",
       "      <td>0.958884</td>\n",
       "      <td>0.785484</td>\n",
       "    </tr>\n",
       "    <tr>\n",
       "      <th>2016</th>\n",
       "      <td>SXS:BBH:2162</td>\n",
       "      <td>0.750005</td>\n",
       "      <td>0.249995</td>\n",
       "      <td>3.000073</td>\n",
       "      <td>0.600050</td>\n",
       "      <td>0.400090</td>\n",
       "      <td>0.954915</td>\n",
       "      <td>0.806964</td>\n",
       "    </tr>\n",
       "    <tr>\n",
       "      <th>2017</th>\n",
       "      <td>SXS:BBH:2163</td>\n",
       "      <td>0.750004</td>\n",
       "      <td>0.249996</td>\n",
       "      <td>3.000059</td>\n",
       "      <td>0.599908</td>\n",
       "      <td>0.600011</td>\n",
       "      <td>0.953795</td>\n",
       "      <td>0.811977</td>\n",
       "    </tr>\n",
       "    <tr>\n",
       "      <th>2018</th>\n",
       "      <td>SXS:BBH:2265</td>\n",
       "      <td>0.750006</td>\n",
       "      <td>0.249994</td>\n",
       "      <td>3.000099</td>\n",
       "      <td>0.000002</td>\n",
       "      <td>0.000005</td>\n",
       "      <td>0.971115</td>\n",
       "      <td>0.540609</td>\n",
       "    </tr>\n",
       "  </tbody>\n",
       "</table>\n",
       "</div>"
      ],
      "text/plain": [
       "       waveform_id     mass1     mass2  mass_ratio     chi1z     chi2z  \\\n",
       "2013  SXS:BBH:2159  0.749994  0.250006    2.999904  0.600059 -0.599733   \n",
       "2014  SXS:BBH:2160  0.750004  0.249996    3.000070  0.600044 -0.399866   \n",
       "2016  SXS:BBH:2162  0.750005  0.249995    3.000073  0.600050  0.400090   \n",
       "2017  SXS:BBH:2163  0.750004  0.249996    3.000059  0.599908  0.600011   \n",
       "2018  SXS:BBH:2265  0.750006  0.249994    3.000099  0.000002  0.000005   \n",
       "\n",
       "         massf     chifz  \n",
       "2013  0.959753  0.779858  \n",
       "2014  0.958884  0.785484  \n",
       "2016  0.954915  0.806964  \n",
       "2017  0.953795  0.811977  \n",
       "2018  0.971115  0.540609  "
      ]
     },
     "execution_count": 9,
     "metadata": {},
     "output_type": "execute_result"
    }
   ],
   "source": [
    "mtot = params['mass1'] + params['mass2']\n",
    "params.loc[:,'mass1'] =  params.loc[:,'mass1']/ mtot\n",
    "params.loc[:,'mass2'] =  params.loc[:,'mass2']/ mtot\n",
    "params.loc[:,'massf'] =  params.loc[:,'massf']/ mtot\n",
    "params.tail()"
   ]
  },
  {
   "cell_type": "markdown",
   "id": "d1255fcd",
   "metadata": {},
   "source": [
    "## Load NR fits\n",
    "\n",
    "Next, we load NR fits for the amplitudes and phases of each waveform. The waveform are ordered through `waveform_id`, similarly to the metadata loaded above.\n",
    "\n",
    "__Note that the amplitudes provided here are absolute, i.e. they are not relative to $A_{220}$. Similarly, phases are not relative to $\\phi_{220}$.__"
   ]
  },
  {
   "cell_type": "code",
   "execution_count": 10,
   "id": "605ee9ac",
   "metadata": {},
   "outputs": [
    {
     "data": {
      "text/plain": [
       "dict_keys(['time_from_peak', 'waveform_id', 'amps', 'phis', 'mismatch'])"
      ]
     },
     "execution_count": 10,
     "metadata": {},
     "output_type": "execute_result"
    }
   ],
   "source": [
    "filename = '../postmerger/data/NR_fits/3dq8_20M_SXS_fits.pkl'\n",
    "NR_fits = joblib.load(filename)\n",
    "NR_fits.keys()"
   ]
  },
  {
   "cell_type": "markdown",
   "id": "cf51b26f",
   "metadata": {},
   "source": [
    "You can access the multipoles $(l,m)$ and the corresponding modes that we fitted for:"
   ]
  },
  {
   "cell_type": "code",
   "execution_count": 11,
   "id": "1bfd3974",
   "metadata": {},
   "outputs": [
    {
     "data": {
      "text/plain": [
       "{(2, 2): [(2, 2, 0), (2, 2, 1)],\n",
       " (2, 1): [(2, 1, 0), (2, 1, 1)],\n",
       " (3, 3): [(3, 3, 0), (3, 3, 1)],\n",
       " (3, 2): [(3, 2, 0), (3, 2, 1), (2, 2, 0), (2, 2, 1)],\n",
       " (4, 4): [(4, 4, 0), ((2, 2, 0), (2, 2, 0)), (4, 4, 1)],\n",
       " (4, 3): [(4, 3, 0), (4, 3, 1), (3, 3, 0), (3, 3, 1)],\n",
       " (5, 5): [(5, 5, 0), ((2, 2, 0), (3, 3, 0)), (5, 5, 1)],\n",
       " (2, -2): [(2, -2, 0), (2, -2, 1)],\n",
       " (2, -1): [(2, -1, 0), (2, -1, 1)],\n",
       " (3, -3): [(3, -3, 0), (3, -3, 1)],\n",
       " (3, -2): [(3, -2, 0), (3, -2, 1), (2, -2, 0), (2, -2, 1)],\n",
       " (4, -4): [(4, -4, 0), ((2, -2, 0), (2, -2, 0)), (4, -4, 1)],\n",
       " (4, -3): [(4, -3, 0), (3, -3, 0), (3, -3, 1)],\n",
       " (5, -5): [(5, -5, 0), ((2, -2, 0), (3, -3, 0)), (5, -5, 1)]}"
      ]
     },
     "execution_count": 11,
     "metadata": {},
     "output_type": "execute_result"
    }
   ],
   "source": [
    "LM = {lm:[] for lm in NR_fits['amps'].keys()}\n",
    "for lm in LM.keys():\n",
    "    modes_lm = list(NR_fits['amps'][lm].keys())\n",
    "    LM[lm] = modes_lm\n",
    "LM"
   ]
  },
  {
   "cell_type": "markdown",
   "id": "b653caa5",
   "metadata": {},
   "source": [
    "Loading fits for the amplitudes is as easy as:"
   ]
  },
  {
   "cell_type": "code",
   "execution_count": 12,
   "id": "b395ef65",
   "metadata": {},
   "outputs": [
    {
     "name": "stdout",
     "output_type": "stream",
     "text": [
      "[1.65043346e-05 1.65079495e-05 1.89956413e-02 1.93701060e-02]\n",
      "(394,)\n"
     ]
    }
   ],
   "source": [
    "lm = (3,3)\n",
    "mode = (3,3,0)\n",
    "amp_fits = NR_fits['amps'][lm][mode]\n",
    "print(amp_fits[:4])\n",
    "print(amp_fits.shape)"
   ]
  },
  {
   "cell_type": "markdown",
   "id": "d47026d1",
   "metadata": {},
   "source": [
    "and similarly for the phases - they are defined in the interval $[0,2\\pi]$:"
   ]
  },
  {
   "cell_type": "code",
   "execution_count": 13,
   "id": "6394de06",
   "metadata": {},
   "outputs": [
    {
     "name": "stdout",
     "output_type": "stream",
     "text": [
      "[4.21937387 4.21858389 6.28318531 2.04399969]\n",
      "(394,)\n"
     ]
    }
   ],
   "source": [
    "lm = (3,3)\n",
    "mode = (3,3,0)\n",
    "phi_fits = NR_fits['phis'][lm][mode]\n",
    "print(phi_fits[:4])\n",
    "print(phi_fits.shape)"
   ]
  },
  {
   "cell_type": "markdown",
   "id": "0d8ca463",
   "metadata": {},
   "source": [
    "We also provide the mismatches\n",
    "$$\n",
    "\\mathcal{M}_{lm}=1-\\frac{<h_{lm}^{\\rm NR}|h_{lm}^{\\rm fit}>}{\\sqrt{<h_{lm}^{\\rm NR}|h_{lm}^{\\rm NR}><h_{lm}^{\\rm fit}|h_{lm}^{\\rm fit}>}}\n",
    "$$\n",
    "between numerical strains $h_{lm}^{\\rm NR}$ and waveforms generated with the fitted values of amplitudes and phases $h_{lm}^{\\rm fit}$."
   ]
  },
  {
   "cell_type": "code",
   "execution_count": 14,
   "id": "e8530573",
   "metadata": {},
   "outputs": [
    {
     "name": "stdout",
     "output_type": "stream",
     "text": [
      "[0.84423992 0.7130507  0.00514694 0.04160523]\n"
     ]
    }
   ],
   "source": [
    "lm = (3,3)\n",
    "M_lm = NR_fits['mismatch'][lm]\n",
    "print(M_lm[:4])"
   ]
  }
 ],
 "metadata": {
  "kernelspec": {
   "display_name": "pm_env",
   "language": "python",
   "name": "python3"
  },
  "language_info": {
   "codemirror_mode": {
    "name": "ipython",
    "version": 3
   },
   "file_extension": ".py",
   "mimetype": "text/x-python",
   "name": "python",
   "nbconvert_exporter": "python",
   "pygments_lexer": "ipython3",
   "version": "3.12.9"
  }
 },
 "nbformat": 4,
 "nbformat_minor": 5
}
