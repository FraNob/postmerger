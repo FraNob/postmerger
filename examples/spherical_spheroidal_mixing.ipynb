{
 "cells": [
  {
   "cell_type": "markdown",
   "id": "ab4aab22",
   "metadata": {},
   "source": [
    "# Example usage of `postmerger.spherical_spheroidal_mixing`\n",
    "\n",
    "Spherical spheroidal mixing coefficients $\\mu_{ml'ln}$ are defined by\n",
    "$$\n",
    "h_{lmn}=\\sum_{l'}\\mu_{mll'n}^*~^{^S}h_{l'mn}~_{-2}{Y}{_{lm}}\n",
    "$$\n",
    "where $^{S}h_{l'mn}$ are the strain components defined in the _spheroidal-harmonics_ basis, while $h_{lmn}$ are the strain components defined in the _spherical-harmonics_ basis. The symbol $^*$ denotes complex conjugation.\n",
    "\n",
    "The above definition follows from Eq. (5) of https://arxiv.org/abs/1408.1860 . However, we apply a correction factor $(-1)^{l+l'}$ to compensate for a different definition of spin-weighted spherical harmonics in the SXS catalog: this is obtained by setting `enforce_sxs_convention=True` (default)."
   ]
  },
  {
   "cell_type": "code",
   "execution_count": 1,
   "id": "8d1039bb",
   "metadata": {},
   "outputs": [],
   "source": [
    "import sys\n",
    "sys.path.append('..')"
   ]
  },
  {
   "cell_type": "code",
   "execution_count": 2,
   "id": "79e0e757",
   "metadata": {},
   "outputs": [],
   "source": [
    "import numpy as np\n",
    "import matplotlib.pyplot as plt"
   ]
  },
  {
   "cell_type": "code",
   "execution_count": 4,
   "id": "a2749ba2",
   "metadata": {},
   "outputs": [],
   "source": [
    "import postmerger as pm"
   ]
  },
  {
   "cell_type": "markdown",
   "id": "5efc2fbe",
   "metadata": {},
   "source": [
    "## Read documentation"
   ]
  },
  {
   "cell_type": "code",
   "execution_count": 5,
   "id": "e549fe79",
   "metadata": {},
   "outputs": [
    {
     "name": "stdout",
     "output_type": "stream",
     "text": [
      "Help on function spherical_spheroidal_mixing in module postmerger._utils:\n",
      "\n",
      "spherical_spheroidal_mixing(lm, mode, spin, method='BK14', prograde=1, qnm_method='interp', enforce_sxs_convention=True, s=-2, _fitting_coeffs={})\n",
      "    Returns spherical-spheroidal mixing coefficients mu_{m,l,lt,n} as defined by Eq. (5) in https://arxiv.org/abs/1408.1860 .\n",
      "    Note that they are the complex conjugates of the mixing coefficients C_{lt,l,m,n} defined in https://arxiv.org/abs/1908.10377 .\n",
      "    \n",
      "    Parameters\n",
      "    ----------\n",
      "    lm : tuple\n",
      "        Indices (lt,m) of the spherical harmonic.\n",
      "    \n",
      "    mode : tuple\n",
      "        Indices (l,m,n) of the spheroidal harmonic.\n",
      "    \n",
      "    spin : float or array_like\n",
      "        Dimensionless spin of the Kerr black hole.\n",
      "    \n",
      "    method : str. Default='BK14'.\n",
      "        The method used to compute mixing coefficients. Allowed options: ['BK14','PT73'].\n",
      "        \n",
      "        If 'BK14', it uses the fitting coefficients presented in https://arxiv.org/abs/1408.1860 and provided at https://pages.jh.edu/eberti2/ringdown/ .\n",
      "        \n",
      "        If 'PT73', it uses the leading order expressions in perturbation theory, see Press & Teukolsky 1973, ` Perturbations of a rotating black hole. II. Dynamical stability of the Kerr metric`.\n",
      "    \n",
      "    prograde : int. Default=1.\n",
      "        Allowed options: [-1,1]. If 1, return mixing coefficients for prograde modes. If -1, return mixing coefficients for retrograde modes.\n",
      "    \n",
      "    qnm_method : str. Default='interp'.\n",
      "        The method used to approximate the Kerr spectrum. Allowed options: ['interp','L18'].\n",
      "        \n",
      "        If 'interp', it interpolates linearly from the numerical tables provided at https://pages.jh.edu/eberti2/ringdown/ . They are only defined for spin in [-0.998,0.998] and any use outside this range is not guaranteed to produce sensible results. Note that we only support 2<=l<=5, but original tables are also available for l=6 and 7.\n",
      "        \n",
      "        If 'L18', it uses the fits in https://arxiv.org/abs/1810.03550 . They are defined for spin in the whole physical range [-1,1].\n",
      "    \n",
      "    enforce_sxs_convention : bool. Default=True.\n",
      "        If True, applies a sign correction to match the conventions of SXS. See footnote 4 of https://arxiv.org/abs/1902.02731 .\n",
      "    \n",
      "    Returns\n",
      "    -------\n",
      "        mu_re : float or array_like\n",
      "            Real part of the mixing coefficients.\n",
      "        mu_im : float or array_like\n",
      "            Imaginary part of the mixing coefficients.\n",
      "\n"
     ]
    }
   ],
   "source": [
    "help(pm.spherical_spheroidal_mixing)"
   ]
  },
  {
   "cell_type": "markdown",
   "id": "e5d74bed",
   "metadata": {},
   "source": [
    "## Evaluate mixing coefficients"
   ]
  },
  {
   "cell_type": "code",
   "execution_count": 6,
   "id": "66ab4647",
   "metadata": {},
   "outputs": [
    {
     "name": "stdout",
     "output_type": "stream",
     "text": [
      "mu_{2320} = (0.0665939069543019+0.011046238081249502j)\n"
     ]
    }
   ],
   "source": [
    "## evaluate mu_{2320}\n",
    "\n",
    "## spherical-harmonic indices\n",
    "lm = (3,2)\n",
    "\n",
    "## spheroidal-harmonic indices\n",
    "mode = (2,2,0)\n",
    "\n",
    "## final spin\n",
    "spin = 0.68\n",
    "\n",
    "mu_re, mu_im = pm.spherical_spheroidal_mixing(lm,mode,spin)\n",
    "\n",
    "## results\n",
    "print('mu_{2320} =',mu_re+1j*mu_im)"
   ]
  },
  {
   "cell_type": "markdown",
   "id": "05031e8e",
   "metadata": {},
   "source": [
    "Note that spherical-spheroidal mixing with $l=l'$ is not null:"
   ]
  },
  {
   "cell_type": "code",
   "execution_count": 7,
   "id": "dc506439",
   "metadata": {},
   "outputs": [
    {
     "name": "stdout",
     "output_type": "stream",
     "text": [
      "mu_{2330} = (0.9899656358674489-0.022394437936684233j)\n"
     ]
    }
   ],
   "source": [
    "## evaluate mu_{2330}\n",
    "\n",
    "## spherical-harmonic indices\n",
    "lm = (3,2)\n",
    "\n",
    "## spheroidal-harmonic indices\n",
    "mode = (3,2,0)\n",
    "\n",
    "## final spin\n",
    "spin = 0.68\n",
    "\n",
    "mu_re, mu_im = pm.spherical_spheroidal_mixing(lm,mode,spin)\n",
    "\n",
    "## results\n",
    "print('mu_{2330} =',mu_re+1j*mu_im)"
   ]
  },
  {
   "cell_type": "markdown",
   "id": "182a0d44",
   "metadata": {},
   "source": [
    "Nonetheless, the amount of mixing is small, i.e., the real part is close to 1. \n",
    "\n",
    "The default `method` to compute mixing coefficients is `'BK14'`, which provdes fitting coefficients to numerical tables. Instead, `method='PT73'` resorts to a perturbation theory expansions and can be written in closed form. In this limit, the mixing for $l=l'$ is exactly null:"
   ]
  },
  {
   "cell_type": "code",
   "execution_count": 8,
   "id": "63be0cf3",
   "metadata": {},
   "outputs": [
    {
     "name": "stdout",
     "output_type": "stream",
     "text": [
      "mu_{2330} = (1+0j)\n"
     ]
    }
   ],
   "source": [
    "## evaluate mu_{2330} with method='PT73'\n",
    "\n",
    "## spherical-harmonic indices\n",
    "lm = (3,2)\n",
    "\n",
    "## spheroidal-harmonic indices\n",
    "mode = (3,2,0)\n",
    "\n",
    "## final spin\n",
    "spin = 0.68\n",
    "\n",
    "mu_re, mu_im = pm.spherical_spheroidal_mixing(lm,mode,spin,method='PT73')\n",
    "\n",
    "## results\n",
    "print('mu_{2330} =',mu_re+1j*mu_im)"
   ]
  },
  {
   "cell_type": "markdown",
   "id": "063b6ec0",
   "metadata": {},
   "source": [
    "while for $l\\neq l'$ it gives results similar to `'BK14'`:"
   ]
  },
  {
   "cell_type": "code",
   "execution_count": 9,
   "id": "2c429898",
   "metadata": {},
   "outputs": [
    {
     "name": "stdout",
     "output_type": "stream",
     "text": [
      "mu_{2320} = (0.06691801252539002+0.010410156367386333j)\n"
     ]
    }
   ],
   "source": [
    "## evaluate mu_{2320} with method='PT73'\n",
    "\n",
    "## spherical-harmonic indices\n",
    "lm = (3,2)\n",
    "\n",
    "## spheroidal-harmonic indices\n",
    "mode = (2,2,0)\n",
    "\n",
    "## final spin\n",
    "spin = 0.68\n",
    "\n",
    "mu_re, mu_im = pm.spherical_spheroidal_mixing(lm,mode,spin,method='PT73')\n",
    "\n",
    "## results\n",
    "print('mu_{2320} =',mu_re+1j*mu_im)"
   ]
  },
  {
   "cell_type": "markdown",
   "id": "c3ea24a3",
   "metadata": {},
   "source": [
    "## Batch evaluation"
   ]
  },
  {
   "cell_type": "code",
   "execution_count": 10,
   "id": "d6c2ecec",
   "metadata": {},
   "outputs": [],
   "source": [
    "## evaluate mu_{2320}\n",
    "\n",
    "## spherical-harmonic indices\n",
    "lm = (3,2)\n",
    "\n",
    "## spheroidal-harmonic indices\n",
    "mode = (2,2,0)\n",
    "\n",
    "## final spin\n",
    "spin = np.linspace(-1,1,100)\n",
    "\n",
    "mu_re, mu_im = pm.spherical_spheroidal_mixing(lm,mode,spin)"
   ]
  },
  {
   "cell_type": "code",
   "execution_count": 11,
   "id": "c3750593",
   "metadata": {},
   "outputs": [
    {
     "data": {
      "image/png": "[encoded data removed]",
      "text/plain": [
       "<Figure size 432x360 with 2 Axes>"
      ]
     },
     "metadata": {
      "needs_background": "light"
     },
     "output_type": "display_data"
    }
   ],
   "source": [
    "fig, axs = plt.subplots(1,1,figsize=(6,5))\n",
    "t = axs.scatter(mu_re,mu_im,c=spin)\n",
    "cbar = plt.colorbar(mappable=t,ax=axs)\n",
    "cbar.set_label(r'$\\chi$',rotation=0,fontsize=12,labelpad=10)\n",
    "axs.set_xlabel(r'$Re(\\mu_{2320})$',fontsize=12)\n",
    "axs.set_ylabel(r'$Im(\\mu_{2320})$',fontsize=12)\n",
    "axs.minorticks_on()\n",
    "plt.show()"
   ]
  }
 ],
 "metadata": {
  "kernelspec": {
   "display_name": "Python 3",
   "language": "python",
   "name": "python3"
  },
  "language_info": {
   "codemirror_mode": {
    "name": "ipython",
    "version": 3
   },
   "file_extension": ".py",
   "mimetype": "text/x-python",
   "name": "python",
   "nbconvert_exporter": "python",
   "pygments_lexer": "ipython3",
   "version": "3.8.8"
  }
 },
 "nbformat": 4,
 "nbformat_minor": 5
}
