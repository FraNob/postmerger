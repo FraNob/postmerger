{
 "cells": [
  {
   "cell_type": "markdown",
   "metadata": {},
   "source": [
    "# Data for reproducibility of `Prec6dq10_20M`,`Prec7dq10_20M`\n",
    "\n",
    "We provide a tutorial on how to load metadata and numerical fits to reproduce our results and/or producing your own fit to the same data used for the `Prec6dq10_20M`,`Prec7dq10_20M` models.\n",
    "\n",
    "### Notable differences with respect to spin-aligned models:\n",
    "- We work in a coordinate system whose $z$-axis is aligned with the spin direction of the remnant BH, $\\chi_{\\rm f}$, a.k.a the ringdown frame. All vectorial quantities are expressed in that frame.\n",
    "- We define time-dependent parameters (like BH spins) at the prograde innermost stable circular orbit (ISCO), which serves as our reference point.\n",
    "- NR-fitted phases are defined in the interval $[-\\pi,\\pi]"
   ]
  },
  {
   "cell_type": "code",
   "execution_count": 80,
   "metadata": {},
   "outputs": [],
   "source": [
    "import pandas as pd\n",
    "import numpy as np\n",
    "import joblib"
   ]
  },
  {
   "cell_type": "markdown",
   "metadata": {},
   "source": [
    "## Load metadata\n",
    "\n",
    "We load metadata from the public SXS catalog of binary black holes (considering only simultaions with IDs SXS:BBH:0001-2265).  \n",
    "We directly exclude some simulations:\n",
    "- SXS:BBH:1111 because it does not have \"outermost extrapolation\" waveform .  \n",
    "- SXS:BBH:1125 because ringdown portion is very short."
   ]
  },
  {
   "cell_type": "code",
   "execution_count": 60,
   "metadata": {},
   "outputs": [
    {
     "name": "stdout",
     "output_type": "stream",
     "text": [
      "2017\n"
     ]
    },
    {
     "data": {
      "application/vnd.microsoft.datawrangler.viewer.v0+json": {
       "columns": [
        {
         "name": "index",
         "rawType": "int64",
         "type": "integer"
        },
        {
         "name": "waveform_id",
         "rawType": "object",
         "type": "string"
        },
        {
         "name": "spin_status",
         "rawType": "object",
         "type": "string"
        },
        {
         "name": "theta_f",
         "rawType": "float64",
         "type": "float"
        },
        {
         "name": "chifx",
         "rawType": "float64",
         "type": "float"
        },
        {
         "name": "chify",
         "rawType": "float64",
         "type": "float"
        },
        {
         "name": "chifz",
         "rawType": "float64",
         "type": "float"
        },
        {
         "name": "spinf",
         "rawType": "float64",
         "type": "float"
        },
        {
         "name": "massf",
         "rawType": "float64",
         "type": "float"
        },
        {
         "name": "mass_ratio",
         "rawType": "float64",
         "type": "float"
        },
        {
         "name": "delta",
         "rawType": "float64",
         "type": "float"
        },
        {
         "name": "mass1",
         "rawType": "float64",
         "type": "float"
        },
        {
         "name": "mass2",
         "rawType": "float64",
         "type": "float"
        },
        {
         "name": "eccentricity",
         "rawType": "float64",
         "type": "float"
        },
        {
         "name": "chi1x_isco",
         "rawType": "float64",
         "type": "float"
        },
        {
         "name": "chi1y_isco",
         "rawType": "float64",
         "type": "float"
        },
        {
         "name": "chi1z_isco",
         "rawType": "float64",
         "type": "float"
        },
        {
         "name": "chi2x_isco",
         "rawType": "float64",
         "type": "float"
        },
        {
         "name": "chi2y_isco",
         "rawType": "float64",
         "type": "float"
        },
        {
         "name": "chi2z_isco",
         "rawType": "float64",
         "type": "float"
        },
        {
         "name": "chi_s_isco",
         "rawType": "float64",
         "type": "float"
        },
        {
         "name": "chi_a_isco",
         "rawType": "float64",
         "type": "float"
        },
        {
         "name": "kick_velocity",
         "rawType": "float64",
         "type": "float"
        },
        {
         "name": "kick_angle",
         "rawType": "float64",
         "type": "float"
        }
       ],
       "conversionMethod": "pd.DataFrame",
       "ref": "bc497484-c358-4ce2-9ab1-95583f0bc793",
       "rows": [
        [
         "2012",
         "SXS:BBH:2160",
         "spinning_aligned",
         "5.633683492552022e-06",
         "-1.33852786528e-08",
         "1.75125212483e-07",
         "0.78548436174",
         "0.7854843617400197",
         "0.958900173866",
         "3.000070106023644",
         "0.5000087630993691",
         "0.7500170168",
         "0.249999830102",
         "0.00018",
         "6.86312779842133e-08",
         "-3.2260671526290526e-08",
         "0.5992042955926244",
         "1.6808688729041385e-07",
         "-2.6577371164797333e-08",
         "-0.3990142307951935",
         "0.3496540377397392",
         "0.5491576565359819",
         "0.0002267389924585",
         "1.5707414214108442"
        ],
        [
         "2013",
         "SXS:BBH:2161",
         "spinning_aligned",
         "6.1498047266764e-05",
         "5.57348382385e-07",
         "2.40198000437e-07",
         "0.796406325071",
         "0.7964063250712312",
         "0.957051620535",
         "3.000141744864603",
         "0.5000177174802349",
         "0.750022902878",
         "0.249995822418",
         "0.0001645",
         "2.175978349007062e-07",
         "1.533601394481607e-07",
         "0.599059541318735",
         "2.8226202195424182e-09",
         "2.7193653315335365e-08",
         "-0.0001694758540574",
         "0.4492575954396708",
         "0.4493423303640144",
         "0.0002106992476413",
         "1.569915583905779"
        ],
        [
         "2014",
         "SXS:BBH:2162",
         "spinning_aligned",
         "8.75491092775825e-06",
         "-4.89070843408e-08",
         "7.6437110503e-09",
         "0.806963894335",
         "0.8069638943350016",
         "0.954929886596",
         "3.000073325576268",
         "0.5000091655290166",
         "0.75001607836",
         "0.249999249007",
         "0.0002401",
         "3.6058806551942137e-08",
         "-2.9875416977365094e-08",
         "0.5991140494344208",
         "-1.1280799655756739e-07",
         "2.7733708723750834e-08",
         "0.3998357572391438",
         "0.5492953896310863",
         "0.3493811757177492",
         "0.0001905151861187",
         "1.5706851961803634"
        ],
        [
         "2015",
         "SXS:BBH:2163",
         "spinning_aligned",
         "1.7780931960949334e-05",
         "2.3947276397e-08",
         "7.77942466837e-08",
         "0.811977392708",
         "0.8119773927080041",
         "0.953783714391",
         "3.000058787662573",
         "0.5000073483498235",
         "0.749994761558",
         "0.249993355011",
         "0.0001962",
         "7.263269579645209e-08",
         "1.0698049923137273e-07",
         "0.5989369596916962",
         "-1.9759688090476826e-07",
         "-3.707388345909535e-07",
         "0.5994057372404563",
         "0.5990541523565156",
         "0.2993556883793309",
         "0.0001564210877247",
         "1.570451238706512"
        ],
        [
         "2016",
         "SXS:BBH:2265",
         "non_spinning",
         "3.186697198159858e-05",
         "5.33268609937e-08",
         "-7.73507087629e-08",
         "0.540609034811",
         "0.5406090348110082",
         "0.971102061582",
         "3.0000989292940003",
         "0.5000123658559137",
         "0.749996544597",
         "0.249990604401",
         "6.89e-05",
         "1.085228427108575e-07",
         "1.36812137845944e-07",
         "-0.0004042898102633",
         "-6.852953992191036e-10",
         "7.242479117762962e-11",
         "-4.114015714307065e-06",
         "-0.0003042483358842",
         "-0.0003021913789003",
         "0.000582100335198",
         "1.5706719308402877"
        ]
       ],
       "shape": {
        "columns": 23,
        "rows": 5
       }
      },
      "text/html": [
       "<div>\n",
       "<style scoped>\n",
       "    .dataframe tbody tr th:only-of-type {\n",
       "        vertical-align: middle;\n",
       "    }\n",
       "\n",
       "    .dataframe tbody tr th {\n",
       "        vertical-align: top;\n",
       "    }\n",
       "\n",
       "    .dataframe thead th {\n",
       "        text-align: right;\n",
       "    }\n",
       "</style>\n",
       "<table border=\"1\" class=\"dataframe\">\n",
       "  <thead>\n",
       "    <tr style=\"text-align: right;\">\n",
       "      <th></th>\n",
       "      <th>waveform_id</th>\n",
       "      <th>spin_status</th>\n",
       "      <th>theta_f</th>\n",
       "      <th>chifx</th>\n",
       "      <th>chify</th>\n",
       "      <th>chifz</th>\n",
       "      <th>spinf</th>\n",
       "      <th>massf</th>\n",
       "      <th>mass_ratio</th>\n",
       "      <th>delta</th>\n",
       "      <th>...</th>\n",
       "      <th>chi1x_isco</th>\n",
       "      <th>chi1y_isco</th>\n",
       "      <th>chi1z_isco</th>\n",
       "      <th>chi2x_isco</th>\n",
       "      <th>chi2y_isco</th>\n",
       "      <th>chi2z_isco</th>\n",
       "      <th>chi_s_isco</th>\n",
       "      <th>chi_a_isco</th>\n",
       "      <th>kick_velocity</th>\n",
       "      <th>kick_angle</th>\n",
       "    </tr>\n",
       "  </thead>\n",
       "  <tbody>\n",
       "    <tr>\n",
       "      <th>2012</th>\n",
       "      <td>SXS:BBH:2160</td>\n",
       "      <td>spinning_aligned</td>\n",
       "      <td>0.000006</td>\n",
       "      <td>-1.338528e-08</td>\n",
       "      <td>1.751252e-07</td>\n",
       "      <td>0.785484</td>\n",
       "      <td>0.785484</td>\n",
       "      <td>0.958900</td>\n",
       "      <td>3.000070</td>\n",
       "      <td>0.500009</td>\n",
       "      <td>...</td>\n",
       "      <td>6.863128e-08</td>\n",
       "      <td>-3.226067e-08</td>\n",
       "      <td>0.599204</td>\n",
       "      <td>1.680869e-07</td>\n",
       "      <td>-2.657737e-08</td>\n",
       "      <td>-0.399014</td>\n",
       "      <td>0.349654</td>\n",
       "      <td>0.549158</td>\n",
       "      <td>0.000227</td>\n",
       "      <td>1.570741</td>\n",
       "    </tr>\n",
       "    <tr>\n",
       "      <th>2013</th>\n",
       "      <td>SXS:BBH:2161</td>\n",
       "      <td>spinning_aligned</td>\n",
       "      <td>0.000061</td>\n",
       "      <td>5.573484e-07</td>\n",
       "      <td>2.401980e-07</td>\n",
       "      <td>0.796406</td>\n",
       "      <td>0.796406</td>\n",
       "      <td>0.957052</td>\n",
       "      <td>3.000142</td>\n",
       "      <td>0.500018</td>\n",
       "      <td>...</td>\n",
       "      <td>2.175978e-07</td>\n",
       "      <td>1.533601e-07</td>\n",
       "      <td>0.599060</td>\n",
       "      <td>2.822620e-09</td>\n",
       "      <td>2.719365e-08</td>\n",
       "      <td>-0.000169</td>\n",
       "      <td>0.449258</td>\n",
       "      <td>0.449342</td>\n",
       "      <td>0.000211</td>\n",
       "      <td>1.569916</td>\n",
       "    </tr>\n",
       "    <tr>\n",
       "      <th>2014</th>\n",
       "      <td>SXS:BBH:2162</td>\n",
       "      <td>spinning_aligned</td>\n",
       "      <td>0.000009</td>\n",
       "      <td>-4.890708e-08</td>\n",
       "      <td>7.643711e-09</td>\n",
       "      <td>0.806964</td>\n",
       "      <td>0.806964</td>\n",
       "      <td>0.954930</td>\n",
       "      <td>3.000073</td>\n",
       "      <td>0.500009</td>\n",
       "      <td>...</td>\n",
       "      <td>3.605881e-08</td>\n",
       "      <td>-2.987542e-08</td>\n",
       "      <td>0.599114</td>\n",
       "      <td>-1.128080e-07</td>\n",
       "      <td>2.773371e-08</td>\n",
       "      <td>0.399836</td>\n",
       "      <td>0.549295</td>\n",
       "      <td>0.349381</td>\n",
       "      <td>0.000191</td>\n",
       "      <td>1.570685</td>\n",
       "    </tr>\n",
       "    <tr>\n",
       "      <th>2015</th>\n",
       "      <td>SXS:BBH:2163</td>\n",
       "      <td>spinning_aligned</td>\n",
       "      <td>0.000018</td>\n",
       "      <td>2.394728e-08</td>\n",
       "      <td>7.779425e-08</td>\n",
       "      <td>0.811977</td>\n",
       "      <td>0.811977</td>\n",
       "      <td>0.953784</td>\n",
       "      <td>3.000059</td>\n",
       "      <td>0.500007</td>\n",
       "      <td>...</td>\n",
       "      <td>7.263270e-08</td>\n",
       "      <td>1.069805e-07</td>\n",
       "      <td>0.598937</td>\n",
       "      <td>-1.975969e-07</td>\n",
       "      <td>-3.707388e-07</td>\n",
       "      <td>0.599406</td>\n",
       "      <td>0.599054</td>\n",
       "      <td>0.299356</td>\n",
       "      <td>0.000156</td>\n",
       "      <td>1.570451</td>\n",
       "    </tr>\n",
       "    <tr>\n",
       "      <th>2016</th>\n",
       "      <td>SXS:BBH:2265</td>\n",
       "      <td>non_spinning</td>\n",
       "      <td>0.000032</td>\n",
       "      <td>5.332686e-08</td>\n",
       "      <td>-7.735071e-08</td>\n",
       "      <td>0.540609</td>\n",
       "      <td>0.540609</td>\n",
       "      <td>0.971102</td>\n",
       "      <td>3.000099</td>\n",
       "      <td>0.500012</td>\n",
       "      <td>...</td>\n",
       "      <td>1.085228e-07</td>\n",
       "      <td>1.368121e-07</td>\n",
       "      <td>-0.000404</td>\n",
       "      <td>-6.852954e-10</td>\n",
       "      <td>7.242479e-11</td>\n",
       "      <td>-0.000004</td>\n",
       "      <td>-0.000304</td>\n",
       "      <td>-0.000302</td>\n",
       "      <td>0.000582</td>\n",
       "      <td>1.570672</td>\n",
       "    </tr>\n",
       "  </tbody>\n",
       "</table>\n",
       "<p>5 rows × 23 columns</p>\n",
       "</div>"
      ],
      "text/plain": [
       "       waveform_id       spin_status   theta_f         chifx         chify  \\\n",
       "2012  SXS:BBH:2160  spinning_aligned  0.000006 -1.338528e-08  1.751252e-07   \n",
       "2013  SXS:BBH:2161  spinning_aligned  0.000061  5.573484e-07  2.401980e-07   \n",
       "2014  SXS:BBH:2162  spinning_aligned  0.000009 -4.890708e-08  7.643711e-09   \n",
       "2015  SXS:BBH:2163  spinning_aligned  0.000018  2.394728e-08  7.779425e-08   \n",
       "2016  SXS:BBH:2265      non_spinning  0.000032  5.332686e-08 -7.735071e-08   \n",
       "\n",
       "         chifz     spinf     massf  mass_ratio     delta  ...    chi1x_isco  \\\n",
       "2012  0.785484  0.785484  0.958900    3.000070  0.500009  ...  6.863128e-08   \n",
       "2013  0.796406  0.796406  0.957052    3.000142  0.500018  ...  2.175978e-07   \n",
       "2014  0.806964  0.806964  0.954930    3.000073  0.500009  ...  3.605881e-08   \n",
       "2015  0.811977  0.811977  0.953784    3.000059  0.500007  ...  7.263270e-08   \n",
       "2016  0.540609  0.540609  0.971102    3.000099  0.500012  ...  1.085228e-07   \n",
       "\n",
       "        chi1y_isco  chi1z_isco    chi2x_isco    chi2y_isco  chi2z_isco  \\\n",
       "2012 -3.226067e-08    0.599204  1.680869e-07 -2.657737e-08   -0.399014   \n",
       "2013  1.533601e-07    0.599060  2.822620e-09  2.719365e-08   -0.000169   \n",
       "2014 -2.987542e-08    0.599114 -1.128080e-07  2.773371e-08    0.399836   \n",
       "2015  1.069805e-07    0.598937 -1.975969e-07 -3.707388e-07    0.599406   \n",
       "2016  1.368121e-07   -0.000404 -6.852954e-10  7.242479e-11   -0.000004   \n",
       "\n",
       "      chi_s_isco  chi_a_isco  kick_velocity  kick_angle  \n",
       "2012    0.349654    0.549158       0.000227    1.570741  \n",
       "2013    0.449258    0.449342       0.000211    1.569916  \n",
       "2014    0.549295    0.349381       0.000191    1.570685  \n",
       "2015    0.599054    0.299356       0.000156    1.570451  \n",
       "2016   -0.000304   -0.000302       0.000582    1.570672  \n",
       "\n",
       "[5 rows x 23 columns]"
      ]
     },
     "execution_count": 60,
     "metadata": {},
     "output_type": "execute_result"
    }
   ],
   "source": [
    "filename = '../postmerger/data/waveform_params/SXS_params_precessing.csv'\n",
    "df = pd.read_csv(filename)\n",
    "print(len(df))\n",
    "df.tail()"
   ]
  },
  {
   "cell_type": "markdown",
   "metadata": {},
   "source": [
    "The `spin_status` attribute descrbies the binary category depending on the BH spins:\n",
    "\n",
    "- `non_spinnning`: all spin components are below $10^{-4}$; \n",
    "- `spinning_aligned`: all in-plane spin components $(\\chi_{1x,y}, \\chi_{2x,y})$ are $<10^{-4}$\n",
    "- `precessing`: at least one in-plane spin component exceeds $10^{-4}$. \n"
   ]
  },
  {
   "cell_type": "markdown",
   "metadata": {},
   "source": [
    "For our analysis we select only quasi-circular binaries:"
   ]
  },
  {
   "cell_type": "code",
   "execution_count": 65,
   "metadata": {},
   "outputs": [
    {
     "data": {
      "text/plain": [
       "(1886,)"
      ]
     },
     "execution_count": 65,
     "metadata": {},
     "output_type": "execute_result"
    }
   ],
   "source": [
    "## select non-eccentric binaries\n",
    "mask_NE = df['eccentricity']<=1e-3\n",
    "df2 = df[mask_NE]\n",
    "df2['eccentricity'].shape"
   ]
  },
  {
   "cell_type": "markdown",
   "metadata": {},
   "source": [
    "We exclude 17 simulations in which the remnant spin flips to align opposite to the orbital angular momentum, i.e., $\\theta_{\\rm f} \\simeq \\pi$. Alongside those, we also exclude the only simulation with $\\theta_{\\rm f} \\simeq \\pi/2$"
   ]
  },
  {
   "cell_type": "code",
   "execution_count": 66,
   "metadata": {},
   "outputs": [
    {
     "data": {
      "text/plain": [
       "(2000,)"
      ]
     },
     "execution_count": 66,
     "metadata": {},
     "output_type": "execute_result"
    }
   ],
   "source": [
    "mask_theta = df['theta_f']< 0.8*np.pi\n",
    "df2 = df[mask_theta]\n",
    "df2['theta_f'].shape"
   ]
  },
  {
   "cell_type": "markdown",
   "metadata": {},
   "source": [
    "We exclude seven other simulations due to technical issues, such as differences in their conventions or the presence of numerical artifacts: \n",
    "- simulations SXS:BBH:0171, SXS:BBH:1134, and SXS:BBH:0170 have remnant masses larger than the total initial mass; \n",
    "- SXS:BBH:1131 has inconsistencies in the reported mass ratio; \n",
    "- SXS:BBH:1110 exhibits strong numerical artifacts in the $(2,2)$ mode waveform;"
   ]
  },
  {
   "cell_type": "code",
   "execution_count": 67,
   "metadata": {},
   "outputs": [
    {
     "data": {
      "text/plain": [
       "(2012,)"
      ]
     },
     "execution_count": 67,
     "metadata": {},
     "output_type": "execute_result"
    }
   ],
   "source": [
    "problematic_simulations = [\"SXS:BBH:0171\", \"SXS:BBH:1134\", \"SXS:BBH:0170\",\n",
    "                           \"SXS:BBH:1131\", \"SXS:BBH:1110\",  ]\n",
    " \n",
    "mask_problematic = df['waveform_id'].isin(problematic_simulations)\n",
    "df2 = df[~mask_problematic]\n",
    "df2['waveform_id'].shape"
   ]
  },
  {
   "cell_type": "markdown",
   "metadata": {},
   "source": [
    "Considering all masks:"
   ]
  },
  {
   "cell_type": "code",
   "execution_count": 68,
   "metadata": {},
   "outputs": [
    {
     "data": {
      "text/plain": [
       "(1866,)"
      ]
     },
     "execution_count": 68,
     "metadata": {},
     "output_type": "execute_result"
    }
   ],
   "source": [
    "mask = mask_NE & mask_theta & ~mask_problematic\n",
    "df2 = df[mask]\n",
    "df2['waveform_id'].shape"
   ]
  },
  {
   "cell_type": "markdown",
   "metadata": {},
   "source": []
  },
  {
   "cell_type": "markdown",
   "metadata": {},
   "source": [
    "## Load NR fits\n",
    "\n",
    "Next, we load NR fits for the amplitudes and phases of each waveform. The waveform are ordered through `waveform_id`, similarly to the metadata loaded above.  \n",
    "\n",
    "Alongside fitted amplitude and phases those, we also provide useful quantities:\n",
    "- Fit error defined as $$\\varepsilon^{\\mathrm NR}_{lm} = \\frac{\\int_{t_0}^{100M}\\left| h_{lm}^{\\rm NR} - h_{lm}^{\\rm fit} \\right|^2 dt}{\\int_{t_0}^{100M}\\left| h_{lm}^{\\rm NR} \\right|^2 dt}$$\n",
    "- Timestamps of the peak of $(2,2,0)$ mode, with respect to the start of each simulation.\n",
    "- Timestamps of the peak of the total waveform norm, $t_{\\rm peak\\_norm} = \\max\\limits_{t} \\sqrt{\\sum_{l,m}\\left| h_{l,m} \\right|^2}$, with respect to the start of each simulation.\n",
    "- Timestamps corresponding to $t_{\\rm EMOP}$ with respect to the start of each simulation. See the paper for clarifications.\n",
    "- $\\Delta t_{\\rm EMOP} = t_{\\rm EMOP} - t_{\\rm peak\\_norm}$\n"
   ]
  },
  {
   "cell_type": "code",
   "execution_count": 74,
   "metadata": {},
   "outputs": [
    {
     "data": {
      "text/plain": [
       "dict_keys(['amps', 'phis', 'fit_error', 'time_from_temop', 'waveform_id', 't_peak_220', 't_peak_tot', 't_emop', 'Delta_temop'])"
      ]
     },
     "execution_count": 74,
     "metadata": {},
     "output_type": "execute_result"
    }
   ],
   "source": [
    "filename = '../postmerger/data/NR_fits/Prec_models_20M_SXS_fits.pkl'\n",
    "NR_fits = joblib.load(filename)\n",
    "NR_fits.keys()"
   ]
  },
  {
   "cell_type": "markdown",
   "metadata": {},
   "source": [
    "You can access the multipoles $(l,m)$ and the corresponding modes that we fitted for:"
   ]
  },
  {
   "cell_type": "code",
   "execution_count": 77,
   "metadata": {},
   "outputs": [
    {
     "data": {
      "text/plain": [
       "{(2, 2): [(2, 2, 0)],\n",
       " (2, -2): [(2, -2, 0)],\n",
       " (2, 0): [(2, 0, 0)],\n",
       " (2, 10): [(2, 10, 0)],\n",
       " (2, 1): [(2, 1, 0)],\n",
       " (2, -1): [(2, -1, 0)],\n",
       " (3, 3): [(3, 3, 0)],\n",
       " (3, -3): [(3, -3, 0)]}"
      ]
     },
     "execution_count": 77,
     "metadata": {},
     "output_type": "execute_result"
    }
   ],
   "source": [
    "LM = {lm:[] for lm in NR_fits['amps'].keys()}\n",
    "for lm in LM.keys():\n",
    "    modes_lm = list(NR_fits['amps'][lm].keys())\n",
    "    LM[lm] = modes_lm\n",
    "LM"
   ]
  },
  {
   "cell_type": "markdown",
   "metadata": {},
   "source": [
    "Loading fits for the amplitudes is as easy as:"
   ]
  },
  {
   "cell_type": "code",
   "execution_count": 78,
   "metadata": {},
   "outputs": [
    {
     "name": "stdout",
     "output_type": "stream",
     "text": [
      "[0.00795396 0.02126257 0.02176561 0.0262633 ]\n",
      "(2017,)\n"
     ]
    }
   ],
   "source": [
    "lm = (3,3)\n",
    "mode = (3,3,0)\n",
    "amp_fits = NR_fits['amps'][lm][mode]\n",
    "print(amp_fits[:4])\n",
    "print(amp_fits.shape)"
   ]
  },
  {
   "cell_type": "markdown",
   "metadata": {},
   "source": [
    "and similarly for the phases - they are defined in the interval $[-\\pi,\\pi]$:"
   ]
  },
  {
   "cell_type": "code",
   "execution_count": 79,
   "metadata": {},
   "outputs": [
    {
     "name": "stdout",
     "output_type": "stream",
     "text": [
      "[-2.07192711 -3.13676716  2.98374978 -2.17157264]\n",
      "(2017,)\n"
     ]
    }
   ],
   "source": [
    "lm = (3,3)\n",
    "mode = (3,3,0)\n",
    "phi_fits = NR_fits['phis'][lm][mode]\n",
    "print(phi_fits[:4])\n",
    "print(phi_fits.shape)"
   ]
  }
 ],
 "metadata": {
  "kernelspec": {
   "display_name": "pm_env",
   "language": "python",
   "name": "python3"
  },
  "language_info": {
   "codemirror_mode": {
    "name": "ipython",
    "version": 3
   },
   "file_extension": ".py",
   "mimetype": "text/x-python",
   "name": "python",
   "nbconvert_exporter": "python",
   "pygments_lexer": "ipython3",
   "version": "3.12.9"
  }
 },
 "nbformat": 4,
 "nbformat_minor": 2
}
