{
 "cells": [
  {
   "cell_type": "markdown",
   "id": "6ecf94ba",
   "metadata": {},
   "source": [
    "# Example usage of `postmerger.qnm_Kerr`"
   ]
  },
  {
   "cell_type": "code",
   "execution_count": 1,
   "id": "effd0440",
   "metadata": {},
   "outputs": [],
   "source": [
    "import sys\n",
    "sys.path.append('..')"
   ]
  },
  {
   "cell_type": "code",
   "execution_count": 2,
   "id": "7b5eda9e",
   "metadata": {},
   "outputs": [],
   "source": [
    "import numpy as np\n",
    "import matplotlib.pyplot as plt"
   ]
  },
  {
   "cell_type": "code",
   "execution_count": 3,
   "id": "fa96f2e4",
   "metadata": {},
   "outputs": [],
   "source": [
    "import postmerger as pm"
   ]
  },
  {
   "cell_type": "markdown",
   "id": "dcb524e8",
   "metadata": {},
   "source": [
    "## Read documentation"
   ]
  },
  {
   "cell_type": "code",
   "execution_count": 4,
   "id": "f5b194b5",
   "metadata": {},
   "outputs": [
    {
     "name": "stdout",
     "output_type": "stream",
     "text": [
      "Help on function qnm_Kerr in module postmerger._utils:\n",
      "\n",
      "qnm_Kerr(mass, spin, mode, prograde=1, qnm_method='interp', SI_units=True)\n",
      "    Returns the frequency and the damping time of a Kerr black hole.\n",
      "    \n",
      "    Parameters\n",
      "    ----------\n",
      "    mass : float or array-like\n",
      "        Mass of the Kerr black hole.\n",
      "    \n",
      "    spin : float or array-like\n",
      "        Dimensionless spin of the Kerr black hole.\n",
      "    \n",
      "    mode : tuple\n",
      "        A tuple (l,m,n) with the indices labeling the mode.\n",
      "    \n",
      "    prograde : int. Default=1.\n",
      "        Allowed options: [-1,1]. If 1, returns prograde modes. If -1, returns retrograde modes.\n",
      "        The conventions for prograde-vs-retrograde follow https://arxiv.org/abs/2310.04489 .\n",
      "    \n",
      "    qnm_method : str. Default='interp'.\n",
      "        The method used to approximate the Kerr spectrum. Allowed options: ['interp','L18'].\n",
      "    \n",
      "        If 'interp', interpolates linearly the numerical data from https://arxiv.org/abs/gr-qc/0512160 , using tables provided at https://pages.jh.edu/eberti2/ringdown/ . They are only defined for spin in [-0.998,0.998] and any use outside this range is not guaranteed to produce sensible results. Note that we only support 2<=l<=5, but original tables are also available for l=6 and 7.\n",
      "    \n",
      "        If 'L18', uses the fits in https://arxiv.org/abs/1810.03550 . They are defined for spin in the whole physical range [-1,1].\n",
      "    \n",
      "    SI_units : bool. Default=True.\n",
      "        If True, returns frenquency in units of Hz and damping time in units of s.\n",
      "        If False, returns frequency and damping time in dimensionless units, rescaling them by tsun=G*M_SUM/c**3.\n",
      "    \n",
      "    Returns\n",
      "    -------\n",
      "        frequency : float or array-like\n",
      "        damping time : float or array_like\n",
      "\n"
     ]
    }
   ],
   "source": [
    "help(pm.qnm_Kerr)"
   ]
  },
  {
   "cell_type": "markdown",
   "id": "3e4b3fb8",
   "metadata": {},
   "source": [
    "## Evaluate QNMs"
   ]
  },
  {
   "cell_type": "code",
   "execution_count": 5,
   "id": "6e6dfd71",
   "metadata": {},
   "outputs": [
    {
     "name": "stdout",
     "output_type": "stream",
     "text": [
      "frequency (Hz): 250.71404280475124\n",
      "damping time (s): 0.004032098030215414\n"
     ]
    }
   ],
   "source": [
    "## mass and spin\n",
    "mass = 67\n",
    "spin = 0.67\n",
    "\n",
    "## mode\n",
    "mode = (2,2,0)\n",
    "\n",
    "## evaluate with default qnm_method='interp'\n",
    "f, tau = pm.qnm_Kerr(mass,spin,mode,SI_units=True)\n",
    "\n",
    "## results\n",
    "print('frequency (Hz):',f)\n",
    "print('damping time (s):',tau)"
   ]
  },
  {
   "cell_type": "code",
   "execution_count": 6,
   "id": "e36e65cc",
   "metadata": {},
   "outputs": [
    {
     "name": "stdout",
     "output_type": "stream",
     "text": [
      "frequency (Hz): 250.78370869540043\n",
      "damping time (s): 0.0040332925616675865\n"
     ]
    }
   ],
   "source": [
    "## check with alternative 'L18' qnm_method\n",
    "f, tau = pm.qnm_Kerr(mass,spin,mode,SI_units=True,qnm_method='L18')\n",
    "print('frequency (Hz):',f)\n",
    "print('damping time (s):',tau)"
   ]
  },
  {
   "cell_type": "markdown",
   "id": "7cf529ce",
   "metadata": {},
   "source": [
    "## Evaluate QNMs in batches"
   ]
  },
  {
   "cell_type": "code",
   "execution_count": 7,
   "id": "768225cd",
   "metadata": {},
   "outputs": [],
   "source": [
    "## mass is float but spin is a batch\n",
    "## you can also set both batches of equal length\n",
    "mass = 67\n",
    "spin = np.linspace(-0.99,0.99,100)\n",
    "mode = (2,2,0)\n",
    "f, tau = pm.qnm_Kerr(mass,spin,mode,SI_units=True)"
   ]
  },
  {
   "cell_type": "code",
   "execution_count": 8,
   "id": "f3c17f00",
   "metadata": {},
   "outputs": [
    {
     "data": {
      "image/png": "[encoded data removed]",
      "text/plain": [
       "<Figure size 396x324 with 2 Axes>"
      ]
     },
     "metadata": {
      "needs_background": "light"
     },
     "output_type": "display_data"
    }
   ],
   "source": [
    "## show results\n",
    "fig, axs = plt.subplots(1,1,figsize=(5.5,4.5))\n",
    "t = axs.scatter(2*np.pi*f,1/tau,c=spin,vmin=-0.99,vmax=0.99)\n",
    "cbar = plt.colorbar(mappable=t,ax=axs)\n",
    "cbar.set_label(r'$\\chi$',fontsize=12,rotation=0,labelpad=10)\n",
    "axs.minorticks_on()\n",
    "axs.set_xlabel(r'$\\omega_r~[Hz]$',fontsize=12)\n",
    "axs.set_ylabel(r'$1/\\tau~[Hz]$',fontsize=12)\n",
    "plt.show()"
   ]
  },
  {
   "cell_type": "markdown",
   "id": "47b63992",
   "metadata": {},
   "source": [
    "## Prograde-vs-retrograde modes"
   ]
  },
  {
   "cell_type": "markdown",
   "id": "960d6410",
   "metadata": {},
   "source": [
    "Our conventions for prograde-vs-retrograde modes follow Appendix A of https://arxiv.org/abs/2310.04489 .\n",
    "\n",
    "Here, we reproduce Fig. 12 there for illustration."
   ]
  },
  {
   "cell_type": "code",
   "execution_count": 9,
   "id": "66b143d7",
   "metadata": {},
   "outputs": [],
   "source": [
    "mass = 1.\n",
    "spin = np.linspace(-0.99,0.99,100)\n",
    "mode = (2,2,0)\n",
    "\n",
    "## evaluate prograde mode in natural unts (SI_units=False)\n",
    "f_prograde, tau_prograde = pm.qnm_Kerr(mass,spin,mode,prograde=1,SI_units=False)\n",
    "\n",
    "## same for retrograde mode\n",
    "f_retrograde, tau_retrograde = pm.qnm_Kerr(mass,spin,mode,prograde=-1,SI_units=False)"
   ]
  },
  {
   "cell_type": "code",
   "execution_count": 10,
   "id": "891d5b83",
   "metadata": {},
   "outputs": [
    {
     "data": {
      "image/png": "[encoded data removed]",
      "text/plain": [
       "<Figure size 720x288 with 2 Axes>"
      ]
     },
     "metadata": {
      "needs_background": "light"
     },
     "output_type": "display_data"
    }
   ],
   "source": [
    "fig, axs = plt.subplots(1,2,figsize=(10,4),\\\n",
    "                        gridspec_kw={'wspace':0.})\n",
    "axs[0].plot(2*np.pi*f_retrograde[spin>=0],1/tau_retrograde[spin>=0],color='C0',linewidth=2,\\\n",
    "           label=r'$p=-1,~\\chi\\geq0,~m>0$'+'\\n'+r'$p=+1,~\\chi\\leq0,~m<0$')\n",
    "axs[0].plot(2*np.pi*f_retrograde[spin<=0],1/tau_retrograde[spin<=0],color='C1',linewidth=2,\\\n",
    "           label=r'$p=-1,~\\chi\\leq0,~m>0$'+'\\n'+r'$p=+1,~\\chi\\geq0,~m<0$')\n",
    "axs[1].plot(2*np.pi*f_prograde[spin>=0],1/tau_prograde[spin>=0],color='C0',linewidth=2,\\\n",
    "           label=r'$p=+1,~\\chi\\geq0,~m>0$'+'\\n'+r'$p=-1,~\\chi\\leq0,~m<0$')\n",
    "axs[1].plot(2*np.pi*f_prograde[spin<=0],1/tau_prograde[spin<=0],color='C1',linewidth=2,\\\n",
    "           label=r'$p=+1,~\\chi\\leq0,~m>0$'+'\\n'+r'$p=-1,~\\chi\\geq0,~m<0$')\n",
    "axs[0].legend(frameon=False,fontsize=11.5)\n",
    "axs[1].legend(frameon=False,fontsize=11.5)\n",
    "axs[0].minorticks_on()\n",
    "axs[1].minorticks_on()\n",
    "axs[1].set_yticks([])\n",
    "axs[0].set_xlabel(r'$M\\omega_r$',fontsize=12)\n",
    "axs[1].set_xlabel(r'$M\\omega_r$',fontsize=12)\n",
    "axs[0].set_ylabel(r'$M/\\tau$',fontsize=12)\n",
    "plt.show()"
   ]
  }
 ],
 "metadata": {
  "kernelspec": {
   "display_name": "Python 3",
   "language": "python",
   "name": "python3"
  },
  "language_info": {
   "codemirror_mode": {
    "name": "ipython",
    "version": 3
   },
   "file_extension": ".py",
   "mimetype": "text/x-python",
   "name": "python",
   "nbconvert_exporter": "python",
   "pygments_lexer": "ipython3",
   "version": "3.8.8"
  }
 },
 "nbformat": 4,
 "nbformat_minor": 5
}
